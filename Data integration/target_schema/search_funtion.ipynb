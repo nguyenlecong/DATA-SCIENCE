{
 "metadata": {
  "language_info": {
   "codemirror_mode": {
    "name": "ipython",
    "version": 3
   },
   "file_extension": ".py",
   "mimetype": "text/x-python",
   "name": "python",
   "nbconvert_exporter": "python",
   "pygments_lexer": "ipython3",
   "version": "3.7.6"
  },
  "orig_nbformat": 2,
  "kernelspec": {
   "name": "python37664bitf51202c20f3a4e6e9d97145fca34bb17",
   "display_name": "Python 3.7.6 64-bit"
  },
  "metadata": {
   "interpreter": {
    "hash": "2e7551559daae743fd5a6b2b4bfe97d8cf6c753cb1c0fa8928f6e7ddcebdb42f"
   }
  }
 },
 "nbformat": 4,
 "nbformat_minor": 2,
 "cells": [
  {
   "cell_type": "code",
   "execution_count": 1,
   "metadata": {},
   "outputs": [],
   "source": [
    "import unidecode\n",
    "import distance\n",
    "import pandas as pd\n",
    "import numpy as np\n",
    "import re\n",
    "import math\n",
    "from collections import Counter"
   ]
  },
  {
   "cell_type": "code",
   "execution_count": 2,
   "metadata": {},
   "outputs": [],
   "source": [
    "df = pd.read_csv('target_schema.csv')"
   ]
  },
  {
   "cell_type": "code",
   "execution_count": 3,
   "metadata": {},
   "outputs": [],
   "source": [
    "# Xóa dấu tiếng việt và ký tự thừa\n",
    "def preprocess(text):\n",
    "    # text = text.lower()\n",
    "    text = unidecode.unidecode(text)\n",
    "    text = re.sub('[^a-zA-Z0-9 \\n\\.]', ' ', text)\n",
    "    text = text.replace('nan', '')\n",
    "    \n",
    "    return text"
   ]
  },
  {
   "cell_type": "code",
   "execution_count": 4,
   "metadata": {},
   "outputs": [],
   "source": [
    "# Lấy bản ghi giống nhất\n",
    "def min_d(text,copus):\n",
    "    d = sorted(distance.ilevenshtein(text, copus))\n",
    "    nearest = []\n",
    "    indices = [i for i, v in enumerate(d) if v[0] == min(d)[0]]\n",
    "    for i in indices:\n",
    "        nearest.append(d[i])\n",
    "        \n",
    "    return nearest\n"
   ]
  },
  {
   "cell_type": "code",
   "execution_count": 5,
   "metadata": {},
   "outputs": [],
   "source": [
    "# Tìm category của input\n",
    "def compare_cate(text):\n",
    "    category = ['iphone', 'samsung', 'xiaomi', 'oppo', 'vsmart', 'realme', 'vivo','nokia', 'huawei']\n",
    "    \n",
    "    cate = ''\n",
    "    for cate in category: \n",
    "        if cate in text: # đúng cú pháp\n",
    "            cate = cate\n",
    "        else: # sai cú pháp\n",
    "            cate = min_d(text, category)[0][1]\n",
    "\n",
    "    cols = ['name', 'ram', 'memory/rom']\n",
    "    name = df['name'][df['category'] == cate]\n",
    "    full_name = df[cols].apply(lambda row: ' '.join(row.values.astype(str)), axis=1)[df['category'] == cate]\n",
    "\n",
    "    return name, full_name\n"
   ]
  },
  {
   "cell_type": "code",
   "execution_count": 6,
   "metadata": {},
   "outputs": [],
   "source": [
    "# Sentence to vector\n",
    "def text_to_vec(text):\n",
    "    word = re.compile(r'\\w+')\n",
    "    word = word.findall(text)\n",
    "    \n",
    "    return Counter(word)"
   ]
  },
  {
   "cell_type": "code",
   "execution_count": 7,
   "metadata": {},
   "outputs": [
    {
     "output_type": "execute_result",
     "data": {
      "text/plain": [
       "Counter({'dien': 1,\n",
       "         'thoai': 1,\n",
       "         'iphone': 1,\n",
       "         '12': 1,\n",
       "         'pro': 1,\n",
       "         'max': 1,\n",
       "         '128gb': 1})"
      ]
     },
     "metadata": {},
     "execution_count": 7
    }
   ],
   "source": [
    "t1 = 'điện thoại iphone 12 pro max 128gb'\n",
    "t1 = preprocess(t1)\n",
    "v1 = text_to_vec(t1)\n",
    "v1"
   ]
  },
  {
   "cell_type": "code",
   "execution_count": 8,
   "metadata": {},
   "outputs": [],
   "source": [
    "# Độ đo Cosine\n",
    "def get_cosine(vec1, vec2):\n",
    "    intersection = set(vec1.keys()) & set(vec2.keys())\n",
    "    numerator = sum([vec1[x] * vec2[x] for x in intersection])\n",
    "\n",
    "    sum1 = sum([vec1[x] ** 2 for x in list(vec1.keys())])\n",
    "    sum2 = sum([vec2[x] ** 2 for x in list(vec2.keys())])\n",
    "    denominator = math.sqrt(sum1) * math.sqrt(sum2)\n",
    "\n",
    "    if not denominator:\n",
    "        return 0.0\n",
    "    else:\n",
    "        return float(numerator) / denominator"
   ]
  },
  {
   "cell_type": "code",
   "execution_count": 9,
   "metadata": {},
   "outputs": [],
   "source": [
    "# Hàm tìm kiếm\n",
    "def compare_item(text):\n",
    "    more_similar_item = []\n",
    "\n",
    "    text = preprocess(text)\n",
    "    vec1 = text_to_vec(text)\n",
    "    name, full_name = compare_cate(text)\n",
    "\n",
    "    for i in range(len(name)):\n",
    "        vec2 = text_to_vec(preprocess((list(full_name)[i])))\n",
    "        cosine = get_cosine(vec1, vec2)\n",
    "        if cosine > 0.7:\n",
    "            more_similar_item.append([cosine, list(name)[i]])\n",
    "\n",
    "    if more_similar_item == []:\n",
    "        print('Hãy nhập thêm thông tin để tìm kiếm chính xác hơn!')\n",
    "        more_similar_item = name\n",
    "\n",
    "    return sorted(more_similar_item, reverse= True)"
   ]
  },
  {
   "cell_type": "code",
   "execution_count": 10,
   "metadata": {},
   "outputs": [],
   "source": [
    "# Caching\n",
    "def catching(input_, INPUT, OUTPUT):\n",
    "    min = 100000\n",
    "    for i in INPUT:\n",
    "        d = distance.levenshtein(preprocess(input_), preprocess(i)) # So sánh input mới với các input cũ\n",
    "        if d < min:\n",
    "            min = d\n",
    "            I = i\n",
    "    \n",
    "    if min < 10:\n",
    "        print('------ Use Catching Function ------')\n",
    "        OUTPUT.append(OUTPUT[INPUT.index(I)])\n",
    "        INPUT.append(input_)\n",
    "        index = INPUT.index(I)\n",
    "\n",
    "    else:\n",
    "        OUTPUT.append(compare_item(input_))\n",
    "        INPUT.append(input_)\n",
    "        index = INPUT.index(input_)\n",
    "\n",
    "    return INPUT, OUTPUT, index"
   ]
  },
  {
   "cell_type": "code",
   "execution_count": 11,
   "metadata": {},
   "outputs": [],
   "source": [
    "# Tìm kiếm\n",
    "def search(input_, INPUT, OUTPUT):\n",
    "\n",
    "    if len(INPUT) == 0:\n",
    "        INPUT = [input_]\n",
    "        OUTPUT = []\n",
    "        OUTPUT.append(compare_item(input_))\n",
    "        index = 0\n",
    "    \n",
    "    elif len(INPUT) == 10:\n",
    "        INPUT = INPUT[1:]\n",
    "        OUTPUT = OUTPUT[1:]\n",
    "        INPUT, OUTPUT, index = catching(input_, INPUT, OUTPUT)\n",
    "\n",
    "    else:\n",
    "        INPUT, OUTPUT, index = catching(input_, INPUT, OUTPUT)\n",
    "        \n",
    "    return INPUT, OUTPUT, index"
   ]
  },
  {
   "cell_type": "code",
   "execution_count": 12,
   "metadata": {},
   "outputs": [],
   "source": [
    "INPUT = []\n",
    "OUTPUT = []"
   ]
  },
  {
   "cell_type": "code",
   "execution_count": 13,
   "metadata": {},
   "outputs": [
    {
     "output_type": "execute_result",
     "data": {
      "text/plain": [
       "[[[0.7745966692414834, 'vsmart active 3 6gb ram']]]"
      ]
     },
     "metadata": {},
     "execution_count": 13
    }
   ],
   "source": [
    "input_ = input()\n",
    "INPUT, OUTPUT, index = search(input_, INPUT, OUTPUT)\n",
    "\n",
    "# print(INPUT)\n",
    "OUTPUT\n",
    "\n",
    "# for i in range(len(INPUT)):\n",
    "#     if type(OUTPUT[i][0]) is str:\n",
    "#         print('Hệ thống gợi ý ----->', i+1, OUTPUT[i][0], '<-----', INPUT[i])\n",
    "#     else:\n",
    "#         print(i+1, OUTPUT[i][0][1], '<-----', INPUT[i])"
   ]
  },
  {
   "cell_type": "code",
   "execution_count": 14,
   "metadata": {},
   "outputs": [
    {
     "output_type": "execute_result",
     "data": {
      "text/plain": [
       "'\\n1   Mùa hè sôi động :v\\n2   11 pro max 64gb iphone chính hãng\\n3   iphon 12 pro max 126 gb chính hang vn/q\\n4   samsung note 10 5g\\n5   samsug galaxy s21 128gb utra\\n6   xiaomi redmi note 10 128 gb\\n7   xeomi redmi not 8 pro 8gb/128g\\n8   Tìm cái j đi anh\\n9   asus rog phone 3 chính hãng\\n10  vsmart joy 4 4gb\\n11  apple iphone x 64gb quốc tế cũ 99%(ll/a)\\n12  pple iphone 11 pro max 128 gb chính gãng\\n'"
      ]
     },
     "metadata": {},
     "execution_count": 14
    }
   ],
   "source": [
    "# TEST\n",
    "'''\n",
    "1   Mùa hè sôi động :v\n",
    "2   11 pro max 64gb iphone chính hãng\n",
    "3   iphon 12 pro max 126 gb chính hang vn/q\n",
    "4   samsung note 10 5g\n",
    "5   samsug galaxy s21 128gb utra\n",
    "6   xiaomi redmi note 10 128 gb\n",
    "7   xeomi redmi not 8 pro 8gb/128g\n",
    "8   Tìm cái j đi anh\n",
    "9   asus rog phone 3 chính hãng\n",
    "10  vsmart joy 4 4gb\n",
    "11  apple iphone x 64gb quốc tế cũ 99%(ll/a)\n",
    "12  pple iphone 11 pro max 128 gb chính gãng\n",
    "'''"
   ]
  },
  {
   "cell_type": "code",
   "execution_count": null,
   "metadata": {},
   "outputs": [],
   "source": []
  }
 ]
}