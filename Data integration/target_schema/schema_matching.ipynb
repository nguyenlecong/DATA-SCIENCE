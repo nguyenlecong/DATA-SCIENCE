{
 "metadata": {
  "language_info": {
   "codemirror_mode": {
    "name": "ipython",
    "version": 3
   },
   "file_extension": ".py",
   "mimetype": "text/x-python",
   "name": "python",
   "nbconvert_exporter": "python",
   "pygments_lexer": "ipython3",
   "version": "3.7.6"
  },
  "orig_nbformat": 2,
  "kernelspec": {
   "name": "python37664bitf51202c20f3a4e6e9d97145fca34bb17",
   "display_name": "Python 3.7.6 64-bit"
  },
  "metadata": {
   "interpreter": {
    "hash": "2e7551559daae743fd5a6b2b4bfe97d8cf6c753cb1c0fa8928f6e7ddcebdb42f"
   }
  }
 },
 "nbformat": 4,
 "nbformat_minor": 2,
 "cells": [
  {
   "cell_type": "code",
   "execution_count": 45,
   "metadata": {},
   "outputs": [
    {
     "output_type": "execute_result",
     "data": {
      "text/plain": [
       "[(0, 'foo'), (1, 'fo'), (1, 'foob'), (2, 'fooba'), (3, 'bar'), (3, 'foobar')]"
      ]
     },
     "metadata": {},
     "execution_count": 45
    }
   ],
   "source": [
    "import distance\n",
    "\n",
    "d1 = distance.jaccard(\"internalmemory\", \"memoryrom\") # jaccard\n",
    "distance.levenshtein(\"decide\", \"resize\") #edit distance\n",
    "tokens = [\"fo\", \"bar\", \"foob\", \"foo\", \"fooba\", \"foobar\"]\n",
    "d = sorted(distance.ilevenshtein(\"foo\", tokens))\n",
    "d"
   ]
  },
  {
   "cell_type": "code",
   "execution_count": 49,
   "metadata": {},
   "outputs": [
    {
     "output_type": "execute_result",
     "data": {
      "text/plain": [
       "'foo'"
      ]
     },
     "metadata": {},
     "execution_count": 49
    }
   ],
   "source": [
    "nearest = []\n",
    "indices = [i for i, v in enumerate(d) if v[0] == min(d)[0]]\n",
    "for i in indices:\n",
    "    nearest.append(d[i])\n",
    "nearest[0][1]"
   ]
  },
  {
   "cell_type": "code",
   "execution_count": null,
   "metadata": {},
   "outputs": [],
   "source": []
  },
  {
   "cell_type": "code",
   "execution_count": 2,
   "metadata": {},
   "outputs": [
    {
     "output_type": "stream",
     "name": "stdout",
     "text": [
      "cellphones.csv\nclickbuy.csv\ndidongviet.csv\ndidongviet_apple.csv\nfptshop.csv\nnguyenkim.csv\npico.csv\nthegioididong.csv\ntiki.csv\nviettelstore.csv\n"
     ]
    }
   ],
   "source": [
    "import os\n",
    "import pandas as pd\n",
    "\n",
    "path = 'data'\n",
    "source = os.listdir(os.path.expanduser(path))\n",
    "attr_source = []\n",
    "source_schema = []\n",
    "for schema in source:\n",
    "    print(schema)\n",
    "    new_path = 'data/' + schema\n",
    "    df = pd.read_csv(new_path)\n",
    "    source_schema.append(df)\n",
    "    attr_source.append(list(df))"
   ]
  },
  {
   "cell_type": "code",
   "execution_count": 3,
   "metadata": {},
   "outputs": [
    {
     "output_type": "execute_result",
     "data": {
      "text/plain": [
       "156"
      ]
     },
     "metadata": {},
     "execution_count": 3
    }
   ],
   "source": [
    "len(source_schema[1]['internal memory'])"
   ]
  },
  {
   "cell_type": "code",
   "execution_count": 4,
   "metadata": {},
   "outputs": [],
   "source": [
    "def pre_processing(text):\n",
    "    return text.replace(\" \", \"\").replace(\"(\", \"\").replace(\")\", \"\").replace(\"/\",\"\").replace(\"-\", \"\")"
   ]
  },
  {
   "cell_type": "code",
   "execution_count": 5,
   "metadata": {},
   "outputs": [
    {
     "output_type": "execute_result",
     "data": {
      "text/plain": [
       "['name', 'category', 'price', 'image', 'url', 'ram', 'memory/rom']"
      ]
     },
     "metadata": {},
     "execution_count": 5
    }
   ],
   "source": [
    "target_schema = {'name': [], 'category': [], 'price': [], 'image': [], 'url': [], 'ram': [], 'memory/rom': []}\n",
    "attr_target = list(target_schema.keys())\n",
    "attr_target"
   ]
  },
  {
   "cell_type": "code",
   "execution_count": 6,
   "metadata": {
    "tags": []
   },
   "outputs": [
    {
     "output_type": "stream",
     "name": "stdout",
     "text": [
      "name 0.0\nname 0.0\nname 0.0\nname 0.0\nname 0.0\nname 0.0\nname 0.0\nname 0.0\nname 0.0\nname 0.0\n----\ncategory 0.0\ncategory 0.0\ncategory 0.0\ncategory 0.0\ncategory 0.0\ncategory 0.0\ncategory 0.0\ncategory 0.0\ncategory 0.0\ncategory 0.0\n----\nprice 0.0\nprice 0.0\nprice 0.0\nprice 0.0\nprice 0.0\nprice 0.0\nprice 0.0\nprice 0.0\nprice 0.0\nprice 0.0\n----\nimage 0.0\nimage 0.0\nimage 0.0\nimage 0.0\nimage 0.0\nimage 0.0\nimage 0.0\nimage 0.0\nimage 0.0\nimage 0.0\n----\nurl 0.0\nurl 0.0\nurl 0.0\nurl 0.0\nurl 0.0\nurl 0.0\nurl 0.0\nurl 0.0\nurl 0.0\nurl 0.0\n----\nram 0.0\nram 0.0\nram 0.0\nrear camera 0.4\nram 0.0\nram 0.0\nram 0.0\nram 0.0\nname 0.6\nram 0.0\n----\ncategory 0.5555555555555556\ninternal memory 0.25\nrom 0.2\nmemory - storage 0.2222222222222222\ninternal memory 0.25\nrom 0.2\ninternal memory (rom) 0.125\ninternal memory 0.25\ncategory 0.5555555555555556\nrom 0.2\n----\n"
     ]
    }
   ],
   "source": [
    "for attr_T in attr_target:\n",
    "    i = -1\n",
    "    for attr_S in attr_source:\n",
    "        i += 1\n",
    "        min = 1\n",
    "        for attr in attr_S:\n",
    "            d = distance.jaccard(pre_processing(attr_T), pre_processing(attr))\n",
    "            for j in attr.split():\n",
    "                j = pre_processing(j)\n",
    "                if j in attr_T and j != \"\":\n",
    "                    d = d/2\n",
    "            if d < min:\n",
    "                min = d\n",
    "                a = attr\n",
    "        print(a, min)\n",
    "        if min <= 0.25:\n",
    "            target_schema[attr_T].extend(source_schema[i][a])\n",
    "        else:\n",
    "            target_schema[attr_T].extend([''] * len(source_schema[i]))\n",
    "    print('----')"
   ]
  },
  {
   "cell_type": "code",
   "execution_count": 7,
   "metadata": {},
   "outputs": [
    {
     "output_type": "execute_result",
     "data": {
      "text/plain": [
       "1269"
      ]
     },
     "metadata": {},
     "execution_count": 7
    }
   ],
   "source": [
    "len(target_schema['name'])"
   ]
  },
  {
   "cell_type": "code",
   "execution_count": 9,
   "metadata": {},
   "outputs": [],
   "source": [
    "target_schema = pd.DataFrame.from_dict(target_schema)\n",
    "target_schema.to_csv('target_schema.csv', index = False)"
   ]
  }
 ]
}