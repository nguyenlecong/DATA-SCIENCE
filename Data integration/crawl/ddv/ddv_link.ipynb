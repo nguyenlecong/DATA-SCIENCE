{
 "metadata": {
  "language_info": {
   "codemirror_mode": {
    "name": "ipython",
    "version": 3
   },
   "file_extension": ".py",
   "mimetype": "text/x-python",
   "name": "python",
   "nbconvert_exporter": "python",
   "pygments_lexer": "ipython3",
   "version": "3.7.6-final"
  },
  "orig_nbformat": 2,
  "kernelspec": {
   "name": "python37664bitf51202c20f3a4e6e9d97145fca34bb17",
   "display_name": "Python 3.7.6 64-bit"
  },
  "metadata": {
   "interpreter": {
    "hash": "2e7551559daae743fd5a6b2b4bfe97d8cf6c753cb1c0fa8928f6e7ddcebdb42f"
   }
  }
 },
 "nbformat": 4,
 "nbformat_minor": 2,
 "cells": [
  {
   "cell_type": "code",
   "execution_count": 1,
   "metadata": {},
   "outputs": [],
   "source": [
    "import csv\n",
    "import random\n",
    "import pandas as pd\n",
    "from selenium import webdriver\n",
    "from selenium.webdriver.common.by import By\n",
    "from selenium.webdriver.common.keys import Keys"
   ]
  },
  {
   "cell_type": "code",
   "execution_count": 2,
   "metadata": {},
   "outputs": [
    {
     "output_type": "stream",
     "name": "stderr",
     "text": [
      "ipykernel_launcher:4: DeprecationWarning: use options instead of chrome_options\n"
     ]
    }
   ],
   "source": [
    "browser = webdriver.ChromeOptions()\n",
    "prefs = {\"profile.default_content_setting_values.notifications\" : 2} # Tắt thông báo Chrome\n",
    "browser.add_experimental_option(\"prefs\",prefs)\n",
    "browser = webdriver.Chrome(chrome_options=browser, executable_path=r'D:\\Tai Lieu\\HUST-Study\\20202\\Tích hợp dl\\nguyen\\chromedriver.exe')"
   ]
  },
  {
   "cell_type": "code",
   "execution_count": 3,
   "metadata": {},
   "outputs": [],
   "source": [
    "browser.get('https://didongviet.vn/dien-thoai')"
   ]
  },
  {
   "cell_type": "code",
   "execution_count": 4,
   "metadata": {},
   "outputs": [],
   "source": [
    "more = True\n",
    "while more:\n",
    "    try:\n",
    "        moreproduct = browser.find_element_by_class_name('more_product')\n",
    "        moreproduct.click()\n",
    "    except:\n",
    "        more = False\n"
   ]
  },
  {
   "cell_type": "code",
   "execution_count": 9,
   "metadata": {},
   "outputs": [],
   "source": [
    "links = []"
   ]
  },
  {
   "cell_type": "code",
   "execution_count": 10,
   "metadata": {},
   "outputs": [],
   "source": [
    "item1 = browser.find_elements_by_xpath('//li[@class=\"item product product-item-new product-item  \"]/div/a')\n",
    "for item in item1:\n",
    "    link = item.get_attribute('href')\n",
    "    links.append(link)"
   ]
  },
  {
   "cell_type": "code",
   "execution_count": 11,
   "metadata": {},
   "outputs": [],
   "source": [
    "item2 = browser.find_elements_by_xpath('//li[@class=\"item product product-item-new product-item \"]/div/a')\n",
    "for item in item2:\n",
    "    link = item.get_attribute('href')\n",
    "    links.append(link)"
   ]
  },
  {
   "cell_type": "code",
   "execution_count": 12,
   "metadata": {},
   "outputs": [
    {
     "output_type": "execute_result",
     "data": {
      "text/plain": [
       "1889"
      ]
     },
     "metadata": {},
     "execution_count": 12
    }
   ],
   "source": [
    "len(links) # = 1889"
   ]
  },
  {
   "cell_type": "code",
   "execution_count": 47,
   "metadata": {},
   "outputs": [
    {
     "output_type": "stream",
     "name": "stdout",
     "text": [
      "https://didongviet.vn/dt-xiaomi-mi-11\nhttps://didongviet.vn/vsmart-active-3-4gb-64gb-cty\nhttps://didongviet.vn/samsung-galaxy-s20-ultra-128gb-cty-fullbox-cu\nhttps://didongviet.vn/xiaomi-mi-10t-pro-128gb\nhttps://didongviet.vn/realme-6i-4gb-128gb\nhttps://didongviet.vn/samsung-galaxy-note-9-sm-n960-qucc-te-128gb-like-new\nhttps://didongviet.vn/samsung-galaxy-note-9-sm-n960-qucc-te-128gb-like-new\nhttps://didongviet.vn/samsung-galaxy-note-9-sm-n960-qucc-te-128gb-like-new\nhttps://didongviet.vn/samsung-galaxy-note-9-sm-n960-qucc-te-128gb-like-new\nhttps://didongviet.vn/samsung-galaxy-note-9-sm-n960-qucc-te-128gb-like-new\nhttps://didongviet.vn/samsung-galaxy-note-9-sm-n960-qucc-te-128gb-like-new\nhttps://didongviet.vn/samsung-galaxy-note-9-sm-n960-qucc-te-128gb-like-new\nhttps://didongviet.vn/samsung-galaxy-note-9-sm-n960-qucc-te-128gb-like-new\nhttps://didongviet.vn/samsung-galaxy-note-9-sm-n960-qucc-te-128gb-like-new\nhttps://didongviet.vn/samsung-galaxy-note-9-sm-n960-qucc-te-128gb-like-new\nhttps://didongviet.vn/samsung-galaxy-note-9-sm-n960-qucc-te-128gb-like-new\nhttps://didongviet.vn/samsung-galaxy-note-9-sm-n960-qucc-te-128gb-like-new\nhttps://didongviet.vn/samsung-galaxy-note-9-sm-n960-qucc-te-128gb-like-new\nhttps://didongviet.vn/samsung-galaxy-note-9-sm-n960-qucc-te-128gb-like-new\nhttps://didongviet.vn/samsung-galaxy-note-9-sm-n960-qucc-te-128gb-like-new\nhttps://didongviet.vn/samsung-galaxy-note-9-sm-n960-qucc-te-128gb-like-new\nhttps://didongviet.vn/samsung-galaxy-note-9-sm-n960-qucc-te-128gb-like-new\nhttps://didongviet.vn/samsung-galaxy-note-9-sm-n960-qucc-te-128gb-like-new\nhttps://didongviet.vn/samsung-galaxy-note-9-sm-n960-qucc-te-128gb-like-new\nhttps://didongviet.vn/samsung-galaxy-note-9-sm-n960-qucc-te-128gb-like-new\nhttps://didongviet.vn/samsung-galaxy-note-9-sm-n960-qucc-te-128gb-like-new\nhttps://didongviet.vn/samsung-galaxy-note-9-sm-n960-qucc-te-128gb-like-new\nhttps://didongviet.vn/oppo-a94\nhttps://didongviet.vn/samsung-galaxy-s21-plus-8gb-256gb\nhttps://didongviet.vn/samsung-galaxy-s21-ultra-12gb-256gb\nhttps://didongviet.vn/samsung-galaxy-s21-plus-128gb\nhttps://didongviet.vn/dien-thoai-galaxy-s21-plus\nhttps://didongviet.vn/samsung-galaxy-s21-ultra-128gb\nhttps://didongviet.vn/dien-thoai-galaxy-s21-ultra\nhttps://didongviet.vn/samsung-galaxy-note-20-256-gb\nhttps://didongviet.vn/samsung-galaxy-note-20-8gb-256gb\nhttps://didongviet.vn/redmi-note-10-4g-64gb\nhttps://didongviet.vn/xiaomi-redmi-note-10\nhttps://didongviet.vn/samsung-galaxy-note-20-ultra-ban-256gb\nhttps://didongviet.vn/samsung-galaxy-note-20-ultra-8-gb-256-gb\nhttps://didongviet.vn/samsung-galaxy-note-20-ultra-ban-8gb-256gb\nhttps://didongviet.vn/samsung-galaxy-note-20-ultra-5g\nhttps://didongviet.vn/vsmart-live-4-6gb-64gb\nhttps://didongviet.vn/oppo-reno4\nhttps://didongviet.vn/galaxy-s20-ultra\nhttps://didongviet.vn/samsung-galaxy-note-10-plus-5g-256gb-my-like-new\nhttps://didongviet.vn/samsung-galaxy-a11\nhttps://didongviet.vn/samsung-galaxy-m21\nhttps://didongviet.vn/vsmart-active-3\nhttps://didongviet.vn/oppo-reno-5\nhttps://didongviet.vn/dt-redmi-note-9\nhttps://didongviet.vn/oppo-a93\nhttps://didongviet.vn/samsung-galaxy-s10-plus-8gb-128gb-like-new\nhttps://didongviet.vn/samsung-galaxy-note-9-6gb-128gb-my-cu\nhttps://didongviet.vn/samsung-galaxy-note-8-64-gb-cu-may-nhat\nhttps://didongviet.vn/samsung-galaxy-note-8-sm-n950-64gb-ban-han-like-new\nhttps://didongviet.vn/samsung-galaxy-a50s-64gb\nhttps://didongviet.vn/nokia-110-ta-1192-cty\nhttps://didongviet.vn/blackberry-keyone-cty\nhttps://didongviet.vn/samsung-galaxy-s9-ban-han\nhttps://didongviet.vn/samsung-galaxy-s20-fe-sm-g780f-ds-128gb-cty\nhttps://didongviet.vn/samsung-galaxy-s20-plus-128gb-cty-cu\nhttps://didongviet.vn/samsung-galaxy-s20-plus-128gb-cty-fullbox-cu\nhttps://didongviet.vn/samsung-galaxy-s20-ultra-128gb-cty-cu\nhttps://didongviet.vn/samsung-galaxy-note-20-ultra-sm-n985f-ds-256gb-cty\nhttps://didongviet.vn/samsung-galaxy-a31-sm-a315g-ds-128gb-cty-fullbox-cu\nhttps://didongviet.vn/samsung-galaxy-a30s-sm-a307gn-ds-64gb-cty\nhttps://didongviet.vn/samsung-galaxy-a21s-sm-a217f-ds-64gb\nhttps://didongviet.vn/samsung-galaxy-a21s-sm-a217f-ds-32gb-cty\nhttps://didongviet.vn/samsung-galaxy-a12-sm-a125f-ds-128gb-cty-fullbox-cu\nhttps://didongviet.vn/samsung-galaxy-a01-core-sm-a013g-ds-16gb-cty-fullbox\nhttps://didongviet.vn/samsung-galaxy-a01-16gb-cty-fullbox-cu\nhttps://didongviet.vn/oppo-a74\nhttps://didongviet.vn/xiaomi-redmi-9t\nhttps://didongviet.vn/samsung-galaxy-s9-sm-g960-ban-nhat-64gb\nhttps://didongviet.vn/samsung-galaxy-a02s-bhdt\nhttps://didongviet.vn/samsung-galaxy-a72-bhdt\nhttps://didongviet.vn/samsung-galaxy-a52-bhdt\nhttps://didongviet.vn/vsmart-star-5-3gb-32gb\nhttps://didongviet.vn/xiaomi-redmi-note-10-pro-8gb\nhttps://didongviet.vn/xiaomi-redmi-note-10-pro\nhttps://didongviet.vn/oppo-a15\nhttps://didongviet.vn/samsung-galaxy-a71-8gb-128gb-cu-cty\nhttps://didongviet.vn/samsung-galaxy-z-fold-2-5g-phien-ban-spring-2021\nhttps://didongviet.vn/nokia-215-4g-cty\nhttps://didongviet.vn/nokia-8000-4g-cty\nhttps://didongviet.vn/samsung-galaxy-a32\nhttps://didongviet.vn/samsung-galaxy-a02s\nhttps://didongviet.vn/samsung-galaxy-a12\nhttps://didongviet.vn/realme-c15-4gb-64gb\nhttps://didongviet.vn/realme-7i-8gb-128gb\nhttps://didongviet.vn/samsung-galaxy-tab-a7\nhttps://didongviet.vn/samsung-galaxy-a52\nhttps://didongviet.vn/xiaomi-mi-10t-pro-5g\nhttps://didongviet.vn/xiaomi-poco-x3\nhttps://didongviet.vn/vsmart-joy-4-4gb-64gb\nhttps://didongviet.vn/vsmart-joy-4-3gb\nhttps://didongviet.vn/realme-c12\nhttps://didongviet.vn/oppo-a53\nhttps://didongviet.vn/vsmart-aris-pro\nhttps://didongviet.vn/samsung-galaxy-a31-128gb\nhttps://didongviet.vn/xiaomi-redmi-9c-64gb\nhttps://didongviet.vn/samsung-galaxy-a72\nhttps://didongviet.vn/blackberry-keyone-like-new\nhttps://didongviet.vn/samsung-galaxy-a12-da-kich-hoat\nhttps://didongviet.vn/samsung-galaxy-a71-128gb-likenew\nhttps://didongviet.vn/samsung-galaxy-note-9-128gb-cty-like-new\nhttps://didongviet.vn/samsung-galaxy-a51-6gb-128gb-likenew\nhttps://didongviet.vn/samsung-galaxy-a50s-4gb-64gb-cty-likenew\nhttps://didongviet.vn/samsung-galaxy-a21s\nhttps://didongviet.vn/redmi-note-9s\nhttps://didongviet.vn/samsung-galaxy-a01-2gb-16gb-cty\nhttps://didongviet.vn/galaxy-z-fold-2\nhttps://didongviet.vn/samsung-galaxy-a31\nhttps://didongviet.vn/samsung-galaxy-note-10-plus-256gb-cty-fullbox-like-new\nhttps://didongviet.vn/nokia-105-ta-1174-cty\nhttps://didongviet.vn/samsung-galaxy-a30-3gb-32gb-like-new\nhttps://didongviet.vn/samsung-galaxy-s10-plus-512gb-ban-han-like-new\nhttps://didongviet.vn/samsung-galaxy-s10-plus-128gb-like-new\nhttps://didongviet.vn/samsung-galaxy-s6-edge-64gb-ban-my-like-new\nhttps://didongviet.vn/samsung-galaxy-note-10-like-new\nhttps://didongviet.vn/samsung-galaxy-note-10-plus-han-quoc\nhttps://didongviet.vn/samsung-galaxy-s10-8gb-128gb-cty-like-new\nhttps://didongviet.vn/samsung-galaxy-note-9-512gb-han-quoc\nhttps://didongviet.vn/samsung-galaxy-note-9-6gb-128gb-han-quoc-cu\nhttps://didongviet.vn/lg-g7-64gb-ban-han\nhttps://didongviet.vn/energizer-energy-e20\nhttps://didongviet.vn/energizer-energy-e100\nhttps://didongviet.vn/oppo-a55-5g\nhttps://didongviet.vn/oppo-find-x3-pro\nhttps://didongviet.vn/samsung-galaxy-s10-8gb-128gb-cty-like-new\nhttps://didongviet.vn/samsung-galaxy-note-9-512gb-han-quoc\nhttps://didongviet.vn/samsung-galaxy-note-9-6gb-128gb-han-quoc-cu\nhttps://didongviet.vn/lg-g7-64gb-ban-han\nhttps://didongviet.vn/energizer-energy-e20\nhttps://didongviet.vn/energizer-energy-e100\nhttps://didongviet.vn/oppo-a55-5g\nhttps://didongviet.vn/oppo-find-x3-pro\nhttps://didongviet.vn/samsung-galaxy-s10-8gb-128gb-cty-like-new\nhttps://didongviet.vn/samsung-galaxy-note-9-512gb-han-quoc\nhttps://didongviet.vn/samsung-galaxy-note-9-6gb-128gb-han-quoc-cu\nhttps://didongviet.vn/lg-g7-64gb-ban-han\nhttps://didongviet.vn/energizer-energy-e20\nhttps://didongviet.vn/energizer-energy-e100\nhttps://didongviet.vn/oppo-a55-5g\nhttps://didongviet.vn/oppo-find-x3-pro\nhttps://didongviet.vn/samsung-galaxy-s10-8gb-128gb-cty-like-new\nhttps://didongviet.vn/samsung-galaxy-note-9-512gb-han-quoc\nhttps://didongviet.vn/samsung-galaxy-note-9-6gb-128gb-han-quoc-cu\nhttps://didongviet.vn/lg-g7-64gb-ban-han\nhttps://didongviet.vn/energizer-energy-e20\nhttps://didongviet.vn/energizer-energy-e100\nhttps://didongviet.vn/oppo-a55-5g\nhttps://didongviet.vn/oppo-find-x3-pro\nhttps://didongviet.vn/samsung-galaxy-s10-8gb-128gb-cty-like-new\nhttps://didongviet.vn/samsung-galaxy-note-9-512gb-han-quoc\nhttps://didongviet.vn/samsung-galaxy-note-9-6gb-128gb-han-quoc-cu\nhttps://didongviet.vn/lg-g7-64gb-ban-han\nhttps://didongviet.vn/energizer-energy-e20\nhttps://didongviet.vn/energizer-energy-e100\nhttps://didongviet.vn/oppo-a55-5g\nhttps://didongviet.vn/oppo-find-x3-pro\nhttps://didongviet.vn/samsung-galaxy-s10-8gb-128gb-cty-like-new\nhttps://didongviet.vn/samsung-galaxy-note-9-512gb-han-quoc\nhttps://didongviet.vn/samsung-galaxy-note-9-6gb-128gb-han-quoc-cu\nhttps://didongviet.vn/lg-g7-64gb-ban-han\nhttps://didongviet.vn/energizer-energy-e20\nhttps://didongviet.vn/energizer-energy-e100\nhttps://didongviet.vn/oppo-a55-5g\nhttps://didongviet.vn/oppo-find-x3-pro\nhttps://didongviet.vn/samsung-galaxy-s10-8gb-128gb-cty-like-new\nhttps://didongviet.vn/samsung-galaxy-note-9-512gb-han-quoc\nhttps://didongviet.vn/samsung-galaxy-note-9-6gb-128gb-han-quoc-cu\nhttps://didongviet.vn/lg-g7-64gb-ban-han\nhttps://didongviet.vn/energizer-energy-e20\nhttps://didongviet.vn/energizer-energy-e100\nhttps://didongviet.vn/oppo-a55-5g\nhttps://didongviet.vn/oppo-find-x3-pro\nhttps://didongviet.vn/samsung-galaxy-s10-8gb-128gb-cty-like-new\nhttps://didongviet.vn/samsung-galaxy-note-9-512gb-han-quoc\nhttps://didongviet.vn/samsung-galaxy-note-9-6gb-128gb-han-quoc-cu\nhttps://didongviet.vn/lg-g7-64gb-ban-han\nhttps://didongviet.vn/energizer-energy-e20\nhttps://didongviet.vn/energizer-energy-e100\nhttps://didongviet.vn/oppo-a55-5g\nhttps://didongviet.vn/oppo-find-x3-pro\nhttps://didongviet.vn/samsung-galaxy-s10-8gb-128gb-cty-like-new\nhttps://didongviet.vn/samsung-galaxy-note-9-512gb-han-quoc\nhttps://didongviet.vn/samsung-galaxy-note-9-6gb-128gb-han-quoc-cu\nhttps://didongviet.vn/lg-g7-64gb-ban-han\nhttps://didongviet.vn/energizer-energy-e20\nhttps://didongviet.vn/energizer-energy-e100\nhttps://didongviet.vn/oppo-a55-5g\nhttps://didongviet.vn/oppo-find-x3-pro\nhttps://didongviet.vn/samsung-galaxy-s10-8gb-128gb-cty-like-new\nhttps://didongviet.vn/samsung-galaxy-note-9-512gb-han-quoc\nhttps://didongviet.vn/samsung-galaxy-note-9-6gb-128gb-han-quoc-cu\nhttps://didongviet.vn/lg-g7-64gb-ban-han\nhttps://didongviet.vn/energizer-energy-e20\nhttps://didongviet.vn/energizer-energy-e100\nhttps://didongviet.vn/oppo-a55-5g\nhttps://didongviet.vn/oppo-find-x3-pro\nhttps://didongviet.vn/samsung-galaxy-s10-8gb-128gb-cty-like-new\nhttps://didongviet.vn/samsung-galaxy-note-9-512gb-han-quoc\nhttps://didongviet.vn/samsung-galaxy-note-9-6gb-128gb-han-quoc-cu\nhttps://didongviet.vn/lg-g7-64gb-ban-han\nhttps://didongviet.vn/energizer-energy-e20\nhttps://didongviet.vn/energizer-energy-e100\nhttps://didongviet.vn/oppo-a55-5g\nhttps://didongviet.vn/oppo-find-x3-pro\nhttps://didongviet.vn/samsung-galaxy-s10-8gb-128gb-cty-like-new\nhttps://didongviet.vn/samsung-galaxy-note-9-512gb-han-quoc\nhttps://didongviet.vn/samsung-galaxy-note-9-6gb-128gb-han-quoc-cu\nhttps://didongviet.vn/lg-g7-64gb-ban-han\nhttps://didongviet.vn/energizer-energy-e20\nhttps://didongviet.vn/energizer-energy-e100\nhttps://didongviet.vn/oppo-a55-5g\nhttps://didongviet.vn/oppo-find-x3-pro\nhttps://didongviet.vn/samsung-galaxy-s10-8gb-128gb-cty-like-new\nhttps://didongviet.vn/samsung-galaxy-note-9-512gb-han-quoc\nhttps://didongviet.vn/samsung-galaxy-note-9-6gb-128gb-han-quoc-cu\nhttps://didongviet.vn/lg-g7-64gb-ban-han\nhttps://didongviet.vn/energizer-energy-e20\nhttps://didongviet.vn/energizer-energy-e100\nhttps://didongviet.vn/oppo-a55-5g\nhttps://didongviet.vn/oppo-find-x3-pro\nhttps://didongviet.vn/samsung-galaxy-s10-8gb-128gb-cty-like-new\nhttps://didongviet.vn/samsung-galaxy-note-9-512gb-han-quoc\nhttps://didongviet.vn/samsung-galaxy-note-9-6gb-128gb-han-quoc-cu\nhttps://didongviet.vn/lg-g7-64gb-ban-han\nhttps://didongviet.vn/energizer-energy-e20\nhttps://didongviet.vn/energizer-energy-e100\nhttps://didongviet.vn/oppo-a55-5g\nhttps://didongviet.vn/oppo-find-x3-pro\nhttps://didongviet.vn/samsung-galaxy-s10-8gb-128gb-cty-like-new\nhttps://didongviet.vn/samsung-galaxy-note-9-512gb-han-quoc\nhttps://didongviet.vn/samsung-galaxy-note-9-6gb-128gb-han-quoc-cu\nhttps://didongviet.vn/lg-g7-64gb-ban-han\nhttps://didongviet.vn/energizer-energy-e20\nhttps://didongviet.vn/energizer-energy-e100\nhttps://didongviet.vn/oppo-a55-5g\nhttps://didongviet.vn/oppo-find-x3-pro\nhttps://didongviet.vn/samsung-galaxy-s10-8gb-128gb-cty-like-new\nhttps://didongviet.vn/samsung-galaxy-note-9-512gb-han-quoc\nhttps://didongviet.vn/samsung-galaxy-note-9-6gb-128gb-han-quoc-cu\nhttps://didongviet.vn/lg-g7-64gb-ban-han\nhttps://didongviet.vn/energizer-energy-e20\nhttps://didongviet.vn/energizer-energy-e100\nhttps://didongviet.vn/oppo-a55-5g\nhttps://didongviet.vn/oppo-find-x3-pro\nhttps://didongviet.vn/samsung-galaxy-s10-8gb-128gb-cty-like-new\nhttps://didongviet.vn/samsung-galaxy-note-9-512gb-han-quoc\nhttps://didongviet.vn/samsung-galaxy-note-9-6gb-128gb-han-quoc-cu\nhttps://didongviet.vn/lg-g7-64gb-ban-han\nhttps://didongviet.vn/energizer-energy-e20\nhttps://didongviet.vn/energizer-energy-e100\nhttps://didongviet.vn/oppo-a55-5g\nhttps://didongviet.vn/oppo-find-x3-pro\nhttps://didongviet.vn/samsung-galaxy-s10-8gb-128gb-cty-like-new\nhttps://didongviet.vn/samsung-galaxy-note-9-512gb-han-quoc\nhttps://didongviet.vn/samsung-galaxy-note-9-6gb-128gb-han-quoc-cu\nhttps://didongviet.vn/lg-g7-64gb-ban-han\nhttps://didongviet.vn/energizer-energy-e20\nhttps://didongviet.vn/energizer-energy-e100\nhttps://didongviet.vn/oppo-a55-5g\nhttps://didongviet.vn/oppo-find-x3-pro\nhttps://didongviet.vn/samsung-galaxy-s10-8gb-128gb-cty-like-new\nhttps://didongviet.vn/samsung-galaxy-note-9-512gb-han-quoc\nhttps://didongviet.vn/samsung-galaxy-note-9-6gb-128gb-han-quoc-cu\nhttps://didongviet.vn/lg-g7-64gb-ban-han\nhttps://didongviet.vn/energizer-energy-e20\nhttps://didongviet.vn/energizer-energy-e100\nhttps://didongviet.vn/oppo-a55-5g\nhttps://didongviet.vn/oppo-find-x3-pro\nhttps://didongviet.vn/samsung-galaxy-s10-8gb-128gb-cty-like-new\nhttps://didongviet.vn/samsung-galaxy-note-9-512gb-han-quoc\nhttps://didongviet.vn/samsung-galaxy-note-9-6gb-128gb-han-quoc-cu\nhttps://didongviet.vn/lg-g7-64gb-ban-han\nhttps://didongviet.vn/energizer-energy-e20\nhttps://didongviet.vn/energizer-energy-e100\nhttps://didongviet.vn/oppo-a55-5g\nhttps://didongviet.vn/oppo-find-x3-pro\nhttps://didongviet.vn/samsung-galaxy-s10-8gb-128gb-cty-like-new\nhttps://didongviet.vn/samsung-galaxy-note-9-512gb-han-quoc\nhttps://didongviet.vn/samsung-galaxy-note-9-6gb-128gb-han-quoc-cu\nhttps://didongviet.vn/lg-g7-64gb-ban-han\nhttps://didongviet.vn/energizer-energy-e20\nhttps://didongviet.vn/energizer-energy-e100\nhttps://didongviet.vn/oppo-a55-5g\nhttps://didongviet.vn/oppo-find-x3-pro\nhttps://didongviet.vn/samsung-galaxy-s10-8gb-128gb-cty-like-new\nhttps://didongviet.vn/samsung-galaxy-note-9-512gb-han-quoc\nhttps://didongviet.vn/samsung-galaxy-note-9-6gb-128gb-han-quoc-cu\nhttps://didongviet.vn/lg-g7-64gb-ban-han\nhttps://didongviet.vn/energizer-energy-e20\nhttps://didongviet.vn/energizer-energy-e100\nhttps://didongviet.vn/oppo-a55-5g\nhttps://didongviet.vn/oppo-find-x3-pro\n"
     ]
    }
   ],
   "source": [
    "with open('ddv_link.csv', mode='a', encoding='utf-8', newline='') as file:\n",
    "    for link in links:\n",
    "        writer = csv.writer(file)\n",
    "        writer.writerow([link])\n",
    "file.close()\n",
    "\n",
    "import pandas as pd\n",
    "\n",
    "df = pd.read_csv('ddv_link.csv', header=None)\n",
    "df.columns = ['link']\n",
    "df.to_csv('ddv_link.csv', index = False)"
   ]
  }
 ]
}