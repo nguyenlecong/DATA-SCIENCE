{
 "metadata": {
  "language_info": {
   "codemirror_mode": {
    "name": "ipython",
    "version": 3
   },
   "file_extension": ".py",
   "mimetype": "text/x-python",
   "name": "python",
   "nbconvert_exporter": "python",
   "pygments_lexer": "ipython3",
   "version": "3.7.6"
  },
  "orig_nbformat": 2,
  "kernelspec": {
   "name": "python37664bitf51202c20f3a4e6e9d97145fca34bb17",
   "display_name": "Python 3.7.6 64-bit"
  },
  "metadata": {
   "interpreter": {
    "hash": "2e7551559daae743fd5a6b2b4bfe97d8cf6c753cb1c0fa8928f6e7ddcebdb42f"
   }
  }
 },
 "nbformat": 4,
 "nbformat_minor": 2,
 "cells": [
  {
   "cell_type": "code",
   "execution_count": 1,
   "metadata": {},
   "outputs": [],
   "source": [
    "import pandas as pd"
   ]
  },
  {
   "cell_type": "code",
   "execution_count": 11,
   "metadata": {},
   "outputs": [],
   "source": [
    "df = pd.read_csv('test.csv')"
   ]
  },
  {
   "cell_type": "code",
   "execution_count": 13,
   "metadata": {},
   "outputs": [
    {
     "output_type": "execute_result",
     "data": {
      "text/plain": [
       "                                                   name category     price  \\\n",
       "139                                         itel it5091    other   350000    \n",
       "141                    điện thoại energizer energy e100    other   490000    \n",
       "146                                           nokia 210    nokia   690000    \n",
       "151                    điện thoại energizer energy e100    other   490000    \n",
       "674                  điện thoại vivo y11 xanh ngọc trai     vivo   2790000   \n",
       "...                                                 ...      ...       ...   \n",
       "1383   điện thoại oppo a12 (3gb/32gb) - hàng chính hãng     oppo   2420000   \n",
       "1384  điện thoại realme c11 (2gb/32gb) - hàng chính ...   realme   2150000   \n",
       "1385  điện thoại samsung galaxy a51 (6gb/128gb) - hà...  samsung   5790000   \n",
       "1386  điện thoại vsmart live 4 (6gb/64gb) - hàng chí...   vsmart   3699000   \n",
       "1387  điện thoại iphone 12 pro max 128gb - hàng chín...   iphone  29750000   \n",
       "\n",
       "                                                  image  \\\n",
       "139   https://cdn.cellphones.com.vn/media/catalog/pr...   \n",
       "141   https://cdn.cellphones.com.vn/media/catalog/pr...   \n",
       "146   https://cdn.cellphones.com.vn/media/catalog/pr...   \n",
       "151   https://cdn.cellphones.com.vn/media/catalog/pr...   \n",
       "674   https://cdn.nguyenkimmall.com/design/themes/re...   \n",
       "...                                                 ...   \n",
       "1383  https://salt.tikicdn.com/cache/280x280/ts/prod...   \n",
       "1384  https://salt.tikicdn.com/cache/280x280/ts/prod...   \n",
       "1385  https://salt.tikicdn.com/cache/280x280/ts/prod...   \n",
       "1386  https://salt.tikicdn.com/cache/280x280/ts/prod...   \n",
       "1387  https://salt.tikicdn.com/ts/upload/f3/74/46/f4...   \n",
       "\n",
       "                                                    url    ram memory/rom  \n",
       "139          https://cellphones.com.vn/itel-it5091.html    NaN        NaN  \n",
       "141   https://cellphones.com.vn/energizer-energy-e10...    NaN        NaN  \n",
       "146   https://cellphones.com.vn/dien-thoai-nokia-210...    NaN        NaN  \n",
       "151   https://cellphones.com.vn/energizer-energy-e10...    NaN        NaN  \n",
       "674   https://www.nguyenkim.com/dien-thoai-vivo-y11-...   3gb       32gb   \n",
       "...                                                 ...    ...        ...  \n",
       "1383  https://tiki.vn/dien-thoai-oppo-a12-3gb-32gb-h...    NaN        NaN  \n",
       "1384  https://tiki.vn/dien-thoai-realme-c11-2gb-32gb...    NaN        NaN  \n",
       "1385  https://tiki.vn/dien-thoai-samsung-galaxy-a51-...    NaN        NaN  \n",
       "1386  https://tiki.vn/dien-thoai-vsmart-live-4-hang-...    NaN        NaN  \n",
       "1387  https://tiki.vn/dien-thoai-iphone-12-pro-max-1...    NaN        NaN  \n",
       "\n",
       "[298 rows x 7 columns]"
      ],
      "text/html": "<div>\n<style scoped>\n    .dataframe tbody tr th:only-of-type {\n        vertical-align: middle;\n    }\n\n    .dataframe tbody tr th {\n        vertical-align: top;\n    }\n\n    .dataframe thead th {\n        text-align: right;\n    }\n</style>\n<table border=\"1\" class=\"dataframe\">\n  <thead>\n    <tr style=\"text-align: right;\">\n      <th></th>\n      <th>name</th>\n      <th>category</th>\n      <th>price</th>\n      <th>image</th>\n      <th>url</th>\n      <th>ram</th>\n      <th>memory/rom</th>\n    </tr>\n  </thead>\n  <tbody>\n    <tr>\n      <th>139</th>\n      <td>itel it5091</td>\n      <td>other</td>\n      <td>350000</td>\n      <td>https://cdn.cellphones.com.vn/media/catalog/pr...</td>\n      <td>https://cellphones.com.vn/itel-it5091.html</td>\n      <td>NaN</td>\n      <td>NaN</td>\n    </tr>\n    <tr>\n      <th>141</th>\n      <td>điện thoại energizer energy e100</td>\n      <td>other</td>\n      <td>490000</td>\n      <td>https://cdn.cellphones.com.vn/media/catalog/pr...</td>\n      <td>https://cellphones.com.vn/energizer-energy-e10...</td>\n      <td>NaN</td>\n      <td>NaN</td>\n    </tr>\n    <tr>\n      <th>146</th>\n      <td>nokia 210</td>\n      <td>nokia</td>\n      <td>690000</td>\n      <td>https://cdn.cellphones.com.vn/media/catalog/pr...</td>\n      <td>https://cellphones.com.vn/dien-thoai-nokia-210...</td>\n      <td>NaN</td>\n      <td>NaN</td>\n    </tr>\n    <tr>\n      <th>151</th>\n      <td>điện thoại energizer energy e100</td>\n      <td>other</td>\n      <td>490000</td>\n      <td>https://cdn.cellphones.com.vn/media/catalog/pr...</td>\n      <td>https://cellphones.com.vn/energizer-energy-e10...</td>\n      <td>NaN</td>\n      <td>NaN</td>\n    </tr>\n    <tr>\n      <th>674</th>\n      <td>điện thoại vivo y11 xanh ngọc trai</td>\n      <td>vivo</td>\n      <td>2790000</td>\n      <td>https://cdn.nguyenkimmall.com/design/themes/re...</td>\n      <td>https://www.nguyenkim.com/dien-thoai-vivo-y11-...</td>\n      <td>3gb</td>\n      <td>32gb</td>\n    </tr>\n    <tr>\n      <th>...</th>\n      <td>...</td>\n      <td>...</td>\n      <td>...</td>\n      <td>...</td>\n      <td>...</td>\n      <td>...</td>\n      <td>...</td>\n    </tr>\n    <tr>\n      <th>1383</th>\n      <td>điện thoại oppo a12 (3gb/32gb) - hàng chính hãng</td>\n      <td>oppo</td>\n      <td>2420000</td>\n      <td>https://salt.tikicdn.com/cache/280x280/ts/prod...</td>\n      <td>https://tiki.vn/dien-thoai-oppo-a12-3gb-32gb-h...</td>\n      <td>NaN</td>\n      <td>NaN</td>\n    </tr>\n    <tr>\n      <th>1384</th>\n      <td>điện thoại realme c11 (2gb/32gb) - hàng chính ...</td>\n      <td>realme</td>\n      <td>2150000</td>\n      <td>https://salt.tikicdn.com/cache/280x280/ts/prod...</td>\n      <td>https://tiki.vn/dien-thoai-realme-c11-2gb-32gb...</td>\n      <td>NaN</td>\n      <td>NaN</td>\n    </tr>\n    <tr>\n      <th>1385</th>\n      <td>điện thoại samsung galaxy a51 (6gb/128gb) - hà...</td>\n      <td>samsung</td>\n      <td>5790000</td>\n      <td>https://salt.tikicdn.com/cache/280x280/ts/prod...</td>\n      <td>https://tiki.vn/dien-thoai-samsung-galaxy-a51-...</td>\n      <td>NaN</td>\n      <td>NaN</td>\n    </tr>\n    <tr>\n      <th>1386</th>\n      <td>điện thoại vsmart live 4 (6gb/64gb) - hàng chí...</td>\n      <td>vsmart</td>\n      <td>3699000</td>\n      <td>https://salt.tikicdn.com/cache/280x280/ts/prod...</td>\n      <td>https://tiki.vn/dien-thoai-vsmart-live-4-hang-...</td>\n      <td>NaN</td>\n      <td>NaN</td>\n    </tr>\n    <tr>\n      <th>1387</th>\n      <td>điện thoại iphone 12 pro max 128gb - hàng chín...</td>\n      <td>iphone</td>\n      <td>29750000</td>\n      <td>https://salt.tikicdn.com/ts/upload/f3/74/46/f4...</td>\n      <td>https://tiki.vn/dien-thoai-iphone-12-pro-max-1...</td>\n      <td>NaN</td>\n      <td>NaN</td>\n    </tr>\n  </tbody>\n</table>\n<p>298 rows × 7 columns</p>\n</div>"
     },
     "metadata": {},
     "execution_count": 13
    }
   ],
   "source": [
    "len(df[df.duplicated()])"
   ]
  },
  {
   "cell_type": "code",
   "execution_count": 4,
   "metadata": {},
   "outputs": [
    {
     "output_type": "execute_result",
     "data": {
      "text/plain": [
       "304"
      ]
     },
     "metadata": {},
     "execution_count": 4
    }
   ],
   "source": [
    "df = df.drop_duplicates()\n",
    "len(df)"
   ]
  },
  {
   "cell_type": "code",
   "execution_count": 5,
   "metadata": {},
   "outputs": [],
   "source": [
    "df.to_csv('fpt/fpt_links.csv', index = False)"
   ]
  },
  {
   "cell_type": "code",
   "execution_count": null,
   "metadata": {},
   "outputs": [],
   "source": []
  }
 ]
}