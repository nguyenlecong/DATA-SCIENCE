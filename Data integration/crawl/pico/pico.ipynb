{
 "metadata": {
  "language_info": {
   "codemirror_mode": {
    "name": "ipython",
    "version": 3
   },
   "file_extension": ".py",
   "mimetype": "text/x-python",
   "name": "python",
   "nbconvert_exporter": "python",
   "pygments_lexer": "ipython3",
   "version": "3.7.6"
  },
  "orig_nbformat": 2,
  "kernelspec": {
   "name": "python37664bitf51202c20f3a4e6e9d97145fca34bb17",
   "display_name": "Python 3.7.6 64-bit"
  },
  "metadata": {
   "interpreter": {
    "hash": "2e7551559daae743fd5a6b2b4bfe97d8cf6c753cb1c0fa8928f6e7ddcebdb42f"
   }
  }
 },
 "nbformat": 4,
 "nbformat_minor": 2,
 "cells": [
  {
   "cell_type": "code",
   "execution_count": 2,
   "metadata": {},
   "outputs": [],
   "source": [
    "import csv\n",
    "import pandas as pd\n",
    "from selenium import webdriver\n",
    "from selenium.webdriver.common.by import By\n",
    "from selenium.webdriver.common.keys import Keys"
   ]
  },
  {
   "cell_type": "code",
   "execution_count": 3,
   "metadata": {},
   "outputs": [
    {
     "output_type": "stream",
     "name": "stderr",
     "text": [
      "ipykernel_launcher:4: DeprecationWarning: use options instead of chrome_options\n"
     ]
    }
   ],
   "source": [
    "browser = webdriver.ChromeOptions()\n",
    "prefs = {\"profile.default_content_setting_values.notifications\" : 2} # Tắt thông báo Chrome\n",
    "browser.add_experimental_option(\"prefs\",prefs)\n",
    "browser = webdriver.Chrome(chrome_options=browser, executable_path=r'D:\\Tai Lieu\\HUST-Study\\20202\\Tích hợp dl\\nguyen\\chromedriver.exe')"
   ]
  },
  {
   "cell_type": "code",
   "execution_count": 7,
   "metadata": {},
   "outputs": [],
   "source": [
    "links = []"
   ]
  },
  {
   "cell_type": "code",
   "execution_count": 8,
   "metadata": {},
   "outputs": [],
   "source": [
    "def get_link(link):\n",
    "    browser.get(link)\n",
    "    item = browser.find_elements_by_xpath('//div[@class=\"product-info\"]/h6/a')\n",
    "    for item in item:\n",
    "        link = item.get_attribute('href')\n",
    "        links.append(link)"
   ]
  },
  {
   "cell_type": "code",
   "execution_count": 9,
   "metadata": {},
   "outputs": [],
   "source": [
    "get_link('https://pico.vn/dien-thoai-di-dong-nhom-75.html')"
   ]
  },
  {
   "cell_type": "code",
   "execution_count": 10,
   "metadata": {},
   "outputs": [],
   "source": [
    "get_link('https://pico.vn/dien-thoai-di-dong-nhom-75.html?&pageIndex=2')"
   ]
  },
  {
   "cell_type": "code",
   "execution_count": 12,
   "metadata": {},
   "outputs": [
    {
     "output_type": "execute_result",
     "data": {
      "text/plain": [
       "120"
      ]
     },
     "metadata": {},
     "execution_count": 12
    }
   ],
   "source": [
    "len(links)"
   ]
  },
  {
   "cell_type": "code",
   "execution_count": 13,
   "metadata": {},
   "outputs": [],
   "source": [
    "data = {'Tên': [], 'Link': [], 'Giá': [], 'Ảnh': [], 'Hệ điều hành': [], 'Loại màn hình': [], 'Camera sau': [], 'Camera trước': [], 'Chipset': [], 'RAM': [], 'Bộ nhớ trong (ROM)': []}\n",
    "detail = list(data.keys())\n",
    "detail = detail[4:13]"
   ]
  },
  {
   "cell_type": "code",
   "execution_count": 14,
   "metadata": {},
   "outputs": [],
   "source": [
    "def extract(link):\n",
    "    browser.get(link)\n",
    "    more = browser.find_element_by_class_name('descr-show-more')\n",
    "    more.click()\n",
    "\n",
    "# Link\n",
    "    data['Link'].append(link)\n",
    "\n",
    "# Name\n",
    "    name = browser.find_element_by_class_name('product-title').text\n",
    "    data['Tên'].append(name)\n",
    "\n",
    "# Price\n",
    "    price = browser.find_element_by_class_name('price').text.replace('₫', '').replace('.', '')\n",
    "    data['Giá'].append(price)\n",
    "\n",
    "# Image:\n",
    "    img = browser.find_element_by_class_name('fullscreen-fancybox').get_attribute('data-srcset')\n",
    "    data['Ảnh'].append(img)\n",
    "\n",
    "#Detail\n",
    "    att = []\n",
    "    key = browser.find_elements_by_class_name('spec-title')\n",
    "    value = browser.find_elements_by_class_name('spec-content')\n",
    "    for i in range(len(key)):\n",
    "        k = key[i].text\n",
    "        att.append(k)\n",
    "        if k in detail:\n",
    "            v = value[i].text\n",
    "            data[k].append(v)\n",
    "    for i in range(len(detail)):\n",
    "        if detail[i] not in att:\n",
    "            data[detail[i]].append('')\n",
    "        \n",
    "\n",
    "    return data"
   ]
  },
  {
   "cell_type": "code",
   "execution_count": 15,
   "metadata": {},
   "outputs": [
    {
     "output_type": "stream",
     "name": "stdout",
     "text": [
      "0\n",
      "1\n",
      "2\n",
      "3\n",
      "4\n",
      "5\n",
      "6\n",
      "7\n",
      "8\n",
      "9\n",
      "10\n",
      "11\n",
      "12\n",
      "13\n",
      "14\n",
      "15\n",
      "16\n",
      "17\n",
      "18\n",
      "19\n",
      "20\n",
      "21\n",
      "22\n",
      "23\n",
      "24\n",
      "25\n",
      "26\n",
      "27\n",
      "28\n",
      "29\n",
      "30\n",
      "31\n",
      "32\n",
      "33\n",
      "34\n",
      "35\n",
      "36\n",
      "37\n",
      "38\n",
      "39\n",
      "40\n",
      "41\n",
      "42\n",
      "43\n",
      "44\n",
      "45\n",
      "46\n",
      "47\n",
      "48\n",
      "49\n",
      "50\n",
      "51\n",
      "52\n",
      "53\n",
      "54\n",
      "55\n",
      "56\n",
      "57\n",
      "58\n",
      "59\n",
      "60\n",
      "61\n",
      "62\n",
      "63\n",
      "64\n",
      "65\n",
      "66\n",
      "67\n",
      "68\n",
      "69\n",
      "70\n",
      "71\n",
      "72\n",
      "73\n",
      "74\n",
      "75\n",
      "76\n",
      "77\n",
      "78\n",
      "79\n",
      "80\n",
      "81\n",
      "82\n",
      "83\n",
      "84\n",
      "85\n",
      "86\n",
      "87\n",
      "88\n",
      "89\n",
      "90\n",
      "91\n",
      "92\n",
      "93\n",
      "94\n",
      "95\n",
      "96\n",
      "97\n",
      "98\n",
      "99\n",
      "100\n",
      "101\n",
      "102\n",
      "103\n",
      "104\n",
      "105\n",
      "106\n",
      "107\n",
      "108\n",
      "109\n",
      "110\n",
      "111\n",
      "112\n",
      "113\n",
      "114\n",
      "115\n",
      "116\n",
      "117\n",
      "118\n",
      "119\n"
     ]
    }
   ],
   "source": [
    "for i in range(len(links)):\n",
    "    print(i)\n",
    "    data = extract(links[i])"
   ]
  },
  {
   "cell_type": "code",
   "execution_count": 16,
   "metadata": {},
   "outputs": [
    {
     "output_type": "execute_result",
     "data": {
      "text/plain": [
       "                                                   Tên  \\\n",
       "0               Điện Thoại Nokia 5 - Màu Xanh NK1053BL   \n",
       "1                Điện Thoại Nokia 5 NK1053C - Màu Đồng   \n",
       "2                               Điện Thoại Nokia 5 Bạc   \n",
       "3            Điện thoại di động Nokia 225 Bright Green   \n",
       "4                    Điện thoại Samsung Galaxy A5 2017   \n",
       "..                                                 ...   \n",
       "115             Điện Thoại Oppo A53 (4GB) Xanh CPH2127   \n",
       "116              Điện Thoại Oppo A53 (4GB) Đen CPH2127   \n",
       "117                       Điện Thoại Nokia 5310 (2020)   \n",
       "118  Điện Thoại Samsung Galaxy A01 Core (SM-A013G X...   \n",
       "119  Điện Thoại Nokia 150 TA-1235 DS VN CYAN - Mode...   \n",
       "\n",
       "                                                  Link      Giá  \\\n",
       "0    https://pico.vn/35977/dien-thoai-di-dong-nokia...  1990000   \n",
       "1    https://pico.vn/36022/dien-thoai-di-dong-nokia...  1990000   \n",
       "2    https://pico.vn/35882/dien-thoai-di-dong-nokia...  1990000   \n",
       "3    https://pico.vn/25405/dien-thoai-di-dong-nokia...   999000   \n",
       "4    https://pico.vn/34685/dien-thoai-di-dong-samsu...  1990000   \n",
       "..                                                 ...      ...   \n",
       "115  https://pico.vn/41671/dien-thoai-di-dong-oppo-...  3990000   \n",
       "116  https://pico.vn/41670/dien-thoai-di-dong-oppo-...  3990000   \n",
       "117  https://pico.vn/41646/dien-thoai-di-dong-nokia...   990000   \n",
       "118  https://pico.vn/41606/dien-thoai-di-dong-samsu...  1890000   \n",
       "119  https://pico.vn/41542/dien-thoai-di-dong-nokia...   649000   \n",
       "\n",
       "                                                   Ảnh Hệ điều hành  \\\n",
       "0    https://cdn.pico.vn/Product/35977/267607_nokia...  Android 7.1   \n",
       "1    https://cdn.pico.vn/Product/36022/268308_nokia...  Android 7.1   \n",
       "2    https://cdn.pico.vn/Product/35882/265687_nokia...  Android 7.1   \n",
       "3       https://cdn.pico.vn/Product/25405/274111_1.jpg                \n",
       "4    https://cdn.pico.vn/Product/34685/274877_ssa52...  Android 6.0   \n",
       "..                                                 ...          ...   \n",
       "115  https://cdn.pico.vn/Product/41671/361527_oppo-...   Android 10   \n",
       "116  https://cdn.pico.vn/Product/41670/361521_oppo-...   Android 10   \n",
       "117  https://cdn.pico.vn/Product/41646/361162_4110r...                \n",
       "118  https://cdn.pico.vn/Product/41606/360527_untit...   Android 10   \n",
       "119  https://cdn.pico.vn/Product/41542/359703_untit...                \n",
       "\n",
       "    Loại màn hình                         Camera sau       Camera trước  \\\n",
       "0         IPS LCD                              13 MP               8 MP   \n",
       "1         IPS LCD                              13 MP               8 MP   \n",
       "2         IPS LCD                              13 MP               8 MP   \n",
       "3             LCD                             2.0 MP                      \n",
       "4    Super AMOLED                              16 MP              16 MP   \n",
       "..            ...                                ...                ...   \n",
       "115                3 camera sau: 13 MP + 2 MP + 2 MP  Camera trước 16MP   \n",
       "116                3 camera sau: 13 MP + 2 MP + 2 MP  Camera trước 16MP   \n",
       "117                          Camera VGA có đèn flash                      \n",
       "118                                        Sau : 8MP       Trước : 5 MP   \n",
       "119           TFT             VGA (480 x 640 pixels)                      \n",
       "\n",
       "                                   Chipset       RAM Bộ nhớ trong (ROM)  \n",
       "0    Qualcomm Snapdragon 430 8 nhân 64 bit      2 GB               16GB  \n",
       "1    Qualcomm Snapdragon 430 8 nhân 64 bit      2 GB               16GB  \n",
       "2    Qualcomm Snapdragon 430 8 nhân 64 bit      2 GB              16 GB  \n",
       "3                                                                        \n",
       "4                              Exynos 7880      3 GB              32 GB  \n",
       "..                                     ...       ...                ...  \n",
       "115                  Snapdragon 460 8 nhân  Ram 4 GB             128 GB  \n",
       "116                  Snapdragon 460 8 nhân  Ram 4 GB             128 GB  \n",
       "117                                                                      \n",
       "118                                             1 GB               16GB  \n",
       "119                                                                      \n",
       "\n",
       "[120 rows x 11 columns]"
      ],
      "text/html": "<div>\n<style scoped>\n    .dataframe tbody tr th:only-of-type {\n        vertical-align: middle;\n    }\n\n    .dataframe tbody tr th {\n        vertical-align: top;\n    }\n\n    .dataframe thead th {\n        text-align: right;\n    }\n</style>\n<table border=\"1\" class=\"dataframe\">\n  <thead>\n    <tr style=\"text-align: right;\">\n      <th></th>\n      <th>Tên</th>\n      <th>Link</th>\n      <th>Giá</th>\n      <th>Ảnh</th>\n      <th>Hệ điều hành</th>\n      <th>Loại màn hình</th>\n      <th>Camera sau</th>\n      <th>Camera trước</th>\n      <th>Chipset</th>\n      <th>RAM</th>\n      <th>Bộ nhớ trong (ROM)</th>\n    </tr>\n  </thead>\n  <tbody>\n    <tr>\n      <th>0</th>\n      <td>Điện Thoại Nokia 5 - Màu Xanh NK1053BL</td>\n      <td>https://pico.vn/35977/dien-thoai-di-dong-nokia...</td>\n      <td>1990000</td>\n      <td>https://cdn.pico.vn/Product/35977/267607_nokia...</td>\n      <td>Android 7.1</td>\n      <td>IPS LCD</td>\n      <td>13 MP</td>\n      <td>8 MP</td>\n      <td>Qualcomm Snapdragon 430 8 nhân 64 bit</td>\n      <td>2 GB</td>\n      <td>16GB</td>\n    </tr>\n    <tr>\n      <th>1</th>\n      <td>Điện Thoại Nokia 5 NK1053C - Màu Đồng</td>\n      <td>https://pico.vn/36022/dien-thoai-di-dong-nokia...</td>\n      <td>1990000</td>\n      <td>https://cdn.pico.vn/Product/36022/268308_nokia...</td>\n      <td>Android 7.1</td>\n      <td>IPS LCD</td>\n      <td>13 MP</td>\n      <td>8 MP</td>\n      <td>Qualcomm Snapdragon 430 8 nhân 64 bit</td>\n      <td>2 GB</td>\n      <td>16GB</td>\n    </tr>\n    <tr>\n      <th>2</th>\n      <td>Điện Thoại Nokia 5 Bạc</td>\n      <td>https://pico.vn/35882/dien-thoai-di-dong-nokia...</td>\n      <td>1990000</td>\n      <td>https://cdn.pico.vn/Product/35882/265687_nokia...</td>\n      <td>Android 7.1</td>\n      <td>IPS LCD</td>\n      <td>13 MP</td>\n      <td>8 MP</td>\n      <td>Qualcomm Snapdragon 430 8 nhân 64 bit</td>\n      <td>2 GB</td>\n      <td>16 GB</td>\n    </tr>\n    <tr>\n      <th>3</th>\n      <td>Điện thoại di động Nokia 225 Bright Green</td>\n      <td>https://pico.vn/25405/dien-thoai-di-dong-nokia...</td>\n      <td>999000</td>\n      <td>https://cdn.pico.vn/Product/25405/274111_1.jpg</td>\n      <td></td>\n      <td>LCD</td>\n      <td>2.0 MP</td>\n      <td></td>\n      <td></td>\n      <td></td>\n      <td></td>\n    </tr>\n    <tr>\n      <th>4</th>\n      <td>Điện thoại Samsung Galaxy A5 2017</td>\n      <td>https://pico.vn/34685/dien-thoai-di-dong-samsu...</td>\n      <td>1990000</td>\n      <td>https://cdn.pico.vn/Product/34685/274877_ssa52...</td>\n      <td>Android 6.0</td>\n      <td>Super AMOLED</td>\n      <td>16 MP</td>\n      <td>16 MP</td>\n      <td>Exynos 7880</td>\n      <td>3 GB</td>\n      <td>32 GB</td>\n    </tr>\n    <tr>\n      <th>...</th>\n      <td>...</td>\n      <td>...</td>\n      <td>...</td>\n      <td>...</td>\n      <td>...</td>\n      <td>...</td>\n      <td>...</td>\n      <td>...</td>\n      <td>...</td>\n      <td>...</td>\n      <td>...</td>\n    </tr>\n    <tr>\n      <th>115</th>\n      <td>Điện Thoại Oppo A53 (4GB) Xanh CPH2127</td>\n      <td>https://pico.vn/41671/dien-thoai-di-dong-oppo-...</td>\n      <td>3990000</td>\n      <td>https://cdn.pico.vn/Product/41671/361527_oppo-...</td>\n      <td>Android 10</td>\n      <td></td>\n      <td>3 camera sau: 13 MP + 2 MP + 2 MP</td>\n      <td>Camera trước 16MP</td>\n      <td>Snapdragon 460 8 nhân</td>\n      <td>Ram 4 GB</td>\n      <td>128 GB</td>\n    </tr>\n    <tr>\n      <th>116</th>\n      <td>Điện Thoại Oppo A53 (4GB) Đen CPH2127</td>\n      <td>https://pico.vn/41670/dien-thoai-di-dong-oppo-...</td>\n      <td>3990000</td>\n      <td>https://cdn.pico.vn/Product/41670/361521_oppo-...</td>\n      <td>Android 10</td>\n      <td></td>\n      <td>3 camera sau: 13 MP + 2 MP + 2 MP</td>\n      <td>Camera trước 16MP</td>\n      <td>Snapdragon 460 8 nhân</td>\n      <td>Ram 4 GB</td>\n      <td>128 GB</td>\n    </tr>\n    <tr>\n      <th>117</th>\n      <td>Điện Thoại Nokia 5310 (2020)</td>\n      <td>https://pico.vn/41646/dien-thoai-di-dong-nokia...</td>\n      <td>990000</td>\n      <td>https://cdn.pico.vn/Product/41646/361162_4110r...</td>\n      <td></td>\n      <td></td>\n      <td>Camera VGA có đèn flash</td>\n      <td></td>\n      <td></td>\n      <td></td>\n      <td></td>\n    </tr>\n    <tr>\n      <th>118</th>\n      <td>Điện Thoại Samsung Galaxy A01 Core (SM-A013G X...</td>\n      <td>https://pico.vn/41606/dien-thoai-di-dong-samsu...</td>\n      <td>1890000</td>\n      <td>https://cdn.pico.vn/Product/41606/360527_untit...</td>\n      <td>Android 10</td>\n      <td></td>\n      <td>Sau : 8MP</td>\n      <td>Trước : 5 MP</td>\n      <td></td>\n      <td>1 GB</td>\n      <td>16GB</td>\n    </tr>\n    <tr>\n      <th>119</th>\n      <td>Điện Thoại Nokia 150 TA-1235 DS VN CYAN - Mode...</td>\n      <td>https://pico.vn/41542/dien-thoai-di-dong-nokia...</td>\n      <td>649000</td>\n      <td>https://cdn.pico.vn/Product/41542/359703_untit...</td>\n      <td></td>\n      <td>TFT</td>\n      <td>VGA (480 x 640 pixels)</td>\n      <td></td>\n      <td></td>\n      <td></td>\n      <td></td>\n    </tr>\n  </tbody>\n</table>\n<p>120 rows × 11 columns</p>\n</div>"
     },
     "metadata": {},
     "execution_count": 16
    }
   ],
   "source": [
    "df = pd.DataFrame.from_dict(data)\n",
    "df"
   ]
  },
  {
   "cell_type": "code",
   "execution_count": 17,
   "metadata": {},
   "outputs": [],
   "source": [
    "df.to_csv('pico.csv', index = False)"
   ]
  },
  {
   "cell_type": "code",
   "execution_count": 19,
   "metadata": {},
   "outputs": [],
   "source": [
    "browser.quit()"
   ]
  },
  {
   "cell_type": "code",
   "execution_count": null,
   "metadata": {},
   "outputs": [],
   "source": []
  }
 ]
}