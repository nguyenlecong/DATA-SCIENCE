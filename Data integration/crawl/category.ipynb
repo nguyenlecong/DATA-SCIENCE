{
 "metadata": {
  "language_info": {
   "codemirror_mode": {
    "name": "ipython",
    "version": 3
   },
   "file_extension": ".py",
   "mimetype": "text/x-python",
   "name": "python",
   "nbconvert_exporter": "python",
   "pygments_lexer": "ipython3",
   "version": "3.7.6"
  },
  "orig_nbformat": 2,
  "kernelspec": {
   "name": "python37664bitf51202c20f3a4e6e9d97145fca34bb17",
   "display_name": "Python 3.7.6 64-bit"
  },
  "metadata": {
   "interpreter": {
    "hash": "2e7551559daae743fd5a6b2b4bfe97d8cf6c753cb1c0fa8928f6e7ddcebdb42f"
   }
  }
 },
 "nbformat": 4,
 "nbformat_minor": 2,
 "cells": [
  {
   "cell_type": "code",
   "execution_count": 93,
   "metadata": {},
   "outputs": [],
   "source": [
    "import pandas as pd"
   ]
  },
  {
   "cell_type": "code",
   "execution_count": 104,
   "metadata": {},
   "outputs": [],
   "source": [
    "df = pd.read_csv('tgdd/tgdd.csv')"
   ]
  },
  {
   "cell_type": "code",
   "execution_count": 95,
   "metadata": {},
   "outputs": [],
   "source": [
    "names = df['Tên']\r\n",
    "cates = ['iphone', 'samsung', 'oppo', 'vivo', 'xiaomi', 'realme', 'vsmart', 'oneplus', 'nokia', 'huawei']\r\n",
    "category = []\r\n",
    "for name in names:\r\n",
    "    name = name.lower()\r\n",
    "    i = 0\r\n",
    "    for cate in cates:\r\n",
    "        if cate in name:\r\n",
    "            i = 1\r\n",
    "            category.append(cate)\r\n",
    "            break\r\n",
    "    if i == 0:\r\n",
    "        category.append('other')"
   ]
  },
  {
   "cell_type": "code",
   "execution_count": 96,
   "metadata": {},
   "outputs": [
    {
     "output_type": "execute_result",
     "data": {
      "text/plain": [
       "174"
      ]
     },
     "metadata": {},
     "execution_count": 96
    }
   ],
   "source": [
    "len(names)"
   ]
  },
  {
   "cell_type": "code",
   "execution_count": 97,
   "metadata": {},
   "outputs": [
    {
     "output_type": "execute_result",
     "data": {
      "text/plain": [
       "174"
      ]
     },
     "metadata": {},
     "execution_count": 97
    }
   ],
   "source": [
    "len(category)"
   ]
  },
  {
   "cell_type": "code",
   "execution_count": 98,
   "metadata": {},
   "outputs": [],
   "source": [
    "df.insert(0, 'Category', category)\n",
    "df.to_csv('tgdd/tgdd1.csv', index=False)"
   ]
  },
  {
   "cell_type": "code",
   "execution_count": 106,
   "metadata": {},
   "outputs": [
    {
     "output_type": "execute_result",
     "data": {
      "text/plain": [
       "                                             tên  \\\n",
       "0               điện thoại samsung galaxy s21 5g   \n",
       "1                            điện thoại oppo a15   \n",
       "2                      điện thoại iphone 12 64gb   \n",
       "3    điện thoại xiaomi redmi note 10 (6gb/128gb)   \n",
       "4                          điện thoại oppo reno5   \n",
       "..                                           ...   \n",
       "169                   điện thoại masstel izi 112   \n",
       "170                       điện thoại itel it2171   \n",
       "171                điện thoại mobell m229 (2019)   \n",
       "172                    điện thoại itel value 100   \n",
       "173                       điện thoại mobell m228   \n",
       "\n",
       "                                                  link       giá  \\\n",
       "0    https://www.thegioididong.com/dtdd/samsung-gal...  20990000   \n",
       "1          https://www.thegioididong.com/dtdd/oppo-a15   3490000   \n",
       "2         https://www.thegioididong.com/dtdd/iphone-12  21990000   \n",
       "3    https://www.thegioididong.com/dtdd/xiaomi-redm...   5490000   \n",
       "4        https://www.thegioididong.com/dtdd/oppo-reno5   8690000   \n",
       "..                                                 ...       ...   \n",
       "169  https://www.thegioididong.com/dtdd/masstel-izi...    220000   \n",
       "170     https://www.thegioididong.com/dtdd/itel-it2171    210000   \n",
       "171  https://www.thegioididong.com/dtdd/mobell-m229...    190000   \n",
       "172  https://www.thegioididong.com/dtdd/itel-value-100    180000   \n",
       "173     https://www.thegioididong.com/dtdd/mobell-m228    160000   \n",
       "\n",
       "                                                   ảnh  \\\n",
       "0    https://cdn.tgdd.vn/products/images/42/220833/...   \n",
       "1    https://cdn.tgdd.vn/products/images/42/229885/...   \n",
       "2    https://cdn.tgdd.vn/products/images/42/213031/...   \n",
       "3    https://cdn.tgdd.vn/products/images/42/222758/...   \n",
       "4    https://cdn.tgdd.vn/products/images/42/220438/...   \n",
       "..                                                 ...   \n",
       "169  https://cdn.tgdd.vn/products/images/42/212189/...   \n",
       "170  https://cdn.tgdd.vn/products/images/42/204125/...   \n",
       "171  https://cdn.tgdd.vn/products/images/42/203509/...   \n",
       "172  https://cdn.tgdd.vn/products/images/42/211009/...   \n",
       "173  https://cdn.tgdd.vn/products/images/42/85984/m...   \n",
       "\n",
       "                                     màu                           màn hình  \\\n",
       "0                        tím, trắng, xám  dynamic amoled 2x, 6.2\", full hd+   \n",
       "1                             đen, trắng                ips lcd, 6.52\", hd+   \n",
       "2    xanh dương, xanh lá, trắng, đỏ, đen       oled, 6.1\", super retina xdr   \n",
       "3                    xanh lá, trắng, xám            amoled, 6.43\", full hd+   \n",
       "4                               bạc, đen            amoled, 6.43\", full hd+   \n",
       "..                                   ...                                ...   \n",
       "169                        đen, đen & đỏ       tft lcd, 1.77\", 16 triệu màu   \n",
       "170                  xanh dương, đỏ, đen         tft lcd, 1.77\", 65.536 màu   \n",
       "171                  đỏ, xanh dương, đen                     tft lcd, 1.77\"   \n",
       "172                              đen, đỏ        tft lcd, 1.77\", 256.000 màu   \n",
       "173                     đen & xanh dương         tft lcd, 1.77\", 65.536 màu   \n",
       "\n",
       "                             camera sau camera trước                chip  \\\n",
       "0        chính 12 mp & phụ 64 mp, 12 mp        10 mp         exynos 2100   \n",
       "1          chính 13 mp & phụ 2 mp, 2 mp         8 mp  mediatek helio p35   \n",
       "2                        2 camera 12 mp        12 mp    apple a14 bionic   \n",
       "3    chính 48 mp & phụ 8 mp, 2 mp, 2 mp        13 mp      snapdragon 678   \n",
       "4    chính 64 mp & phụ 8 mp, 2 mp, 2 mp        44 mp     snapdragon 720g   \n",
       "..                                  ...          ...                 ...   \n",
       "169                                 nan          nan                 nan   \n",
       "170                              0.3 mp          nan                 nan   \n",
       "171                              0.8 mp          nan                 nan   \n",
       "172                                 nan          nan                 nan   \n",
       "173              vga (480 x 640 pixels)          nan                 nan   \n",
       "\n",
       "      ram bộ nhớ trong                                             sim  \\\n",
       "0    8 gb       128 gb  2 nano sim hoặc 1 nano sim + 1 esim, hỗ trợ 5g   \n",
       "1    3 gb        32 gb                           2 nano sim, hỗ trợ 4g   \n",
       "2    4 gb        64 gb                  1 nano sim & 1 esim, hỗ trợ 5g   \n",
       "3    6 gb       128 gb                           2 nano sim, hỗ trợ 4g   \n",
       "4    8 gb       128 gb                           2 nano sim, hỗ trợ 4g   \n",
       "..    ...          ...                                             ...   \n",
       "169   nan          nan                         2 sim thường, hỗ trợ 2g   \n",
       "170   nan          nan                         2 sim thường, hỗ trợ 2g   \n",
       "171   nan          nan                                    2 sim thường   \n",
       "172   nan          nan                         2 sim thường, hỗ trợ 2g   \n",
       "173   nan          nan                         2 sim thường, hỗ trợ 2g   \n",
       "\n",
       "          pin  \n",
       "0         nan  \n",
       "1         nan  \n",
       "2         nan  \n",
       "3         nan  \n",
       "4         nan  \n",
       "..        ...  \n",
       "169   800 mah  \n",
       "170  1000 mah  \n",
       "171   800 mah  \n",
       "172  1000 mah  \n",
       "173   800 mah  \n",
       "\n",
       "[174 rows x 13 columns]"
      ],
      "text/html": "<div>\n<style scoped>\n    .dataframe tbody tr th:only-of-type {\n        vertical-align: middle;\n    }\n\n    .dataframe tbody tr th {\n        vertical-align: top;\n    }\n\n    .dataframe thead th {\n        text-align: right;\n    }\n</style>\n<table border=\"1\" class=\"dataframe\">\n  <thead>\n    <tr style=\"text-align: right;\">\n      <th></th>\n      <th>tên</th>\n      <th>link</th>\n      <th>giá</th>\n      <th>ảnh</th>\n      <th>màu</th>\n      <th>màn hình</th>\n      <th>camera sau</th>\n      <th>camera trước</th>\n      <th>chip</th>\n      <th>ram</th>\n      <th>bộ nhớ trong</th>\n      <th>sim</th>\n      <th>pin</th>\n    </tr>\n  </thead>\n  <tbody>\n    <tr>\n      <th>0</th>\n      <td>điện thoại samsung galaxy s21 5g</td>\n      <td>https://www.thegioididong.com/dtdd/samsung-gal...</td>\n      <td>20990000</td>\n      <td>https://cdn.tgdd.vn/products/images/42/220833/...</td>\n      <td>tím, trắng, xám</td>\n      <td>dynamic amoled 2x, 6.2\", full hd+</td>\n      <td>chính 12 mp &amp; phụ 64 mp, 12 mp</td>\n      <td>10 mp</td>\n      <td>exynos 2100</td>\n      <td>8 gb</td>\n      <td>128 gb</td>\n      <td>2 nano sim hoặc 1 nano sim + 1 esim, hỗ trợ 5g</td>\n      <td>nan</td>\n    </tr>\n    <tr>\n      <th>1</th>\n      <td>điện thoại oppo a15</td>\n      <td>https://www.thegioididong.com/dtdd/oppo-a15</td>\n      <td>3490000</td>\n      <td>https://cdn.tgdd.vn/products/images/42/229885/...</td>\n      <td>đen, trắng</td>\n      <td>ips lcd, 6.52\", hd+</td>\n      <td>chính 13 mp &amp; phụ 2 mp, 2 mp</td>\n      <td>8 mp</td>\n      <td>mediatek helio p35</td>\n      <td>3 gb</td>\n      <td>32 gb</td>\n      <td>2 nano sim, hỗ trợ 4g</td>\n      <td>nan</td>\n    </tr>\n    <tr>\n      <th>2</th>\n      <td>điện thoại iphone 12 64gb</td>\n      <td>https://www.thegioididong.com/dtdd/iphone-12</td>\n      <td>21990000</td>\n      <td>https://cdn.tgdd.vn/products/images/42/213031/...</td>\n      <td>xanh dương, xanh lá, trắng, đỏ, đen</td>\n      <td>oled, 6.1\", super retina xdr</td>\n      <td>2 camera 12 mp</td>\n      <td>12 mp</td>\n      <td>apple a14 bionic</td>\n      <td>4 gb</td>\n      <td>64 gb</td>\n      <td>1 nano sim &amp; 1 esim, hỗ trợ 5g</td>\n      <td>nan</td>\n    </tr>\n    <tr>\n      <th>3</th>\n      <td>điện thoại xiaomi redmi note 10 (6gb/128gb)</td>\n      <td>https://www.thegioididong.com/dtdd/xiaomi-redm...</td>\n      <td>5490000</td>\n      <td>https://cdn.tgdd.vn/products/images/42/222758/...</td>\n      <td>xanh lá, trắng, xám</td>\n      <td>amoled, 6.43\", full hd+</td>\n      <td>chính 48 mp &amp; phụ 8 mp, 2 mp, 2 mp</td>\n      <td>13 mp</td>\n      <td>snapdragon 678</td>\n      <td>6 gb</td>\n      <td>128 gb</td>\n      <td>2 nano sim, hỗ trợ 4g</td>\n      <td>nan</td>\n    </tr>\n    <tr>\n      <th>4</th>\n      <td>điện thoại oppo reno5</td>\n      <td>https://www.thegioididong.com/dtdd/oppo-reno5</td>\n      <td>8690000</td>\n      <td>https://cdn.tgdd.vn/products/images/42/220438/...</td>\n      <td>bạc, đen</td>\n      <td>amoled, 6.43\", full hd+</td>\n      <td>chính 64 mp &amp; phụ 8 mp, 2 mp, 2 mp</td>\n      <td>44 mp</td>\n      <td>snapdragon 720g</td>\n      <td>8 gb</td>\n      <td>128 gb</td>\n      <td>2 nano sim, hỗ trợ 4g</td>\n      <td>nan</td>\n    </tr>\n    <tr>\n      <th>...</th>\n      <td>...</td>\n      <td>...</td>\n      <td>...</td>\n      <td>...</td>\n      <td>...</td>\n      <td>...</td>\n      <td>...</td>\n      <td>...</td>\n      <td>...</td>\n      <td>...</td>\n      <td>...</td>\n      <td>...</td>\n      <td>...</td>\n    </tr>\n    <tr>\n      <th>169</th>\n      <td>điện thoại masstel izi 112</td>\n      <td>https://www.thegioididong.com/dtdd/masstel-izi...</td>\n      <td>220000</td>\n      <td>https://cdn.tgdd.vn/products/images/42/212189/...</td>\n      <td>đen, đen &amp; đỏ</td>\n      <td>tft lcd, 1.77\", 16 triệu màu</td>\n      <td>nan</td>\n      <td>nan</td>\n      <td>nan</td>\n      <td>nan</td>\n      <td>nan</td>\n      <td>2 sim thường, hỗ trợ 2g</td>\n      <td>800 mah</td>\n    </tr>\n    <tr>\n      <th>170</th>\n      <td>điện thoại itel it2171</td>\n      <td>https://www.thegioididong.com/dtdd/itel-it2171</td>\n      <td>210000</td>\n      <td>https://cdn.tgdd.vn/products/images/42/204125/...</td>\n      <td>xanh dương, đỏ, đen</td>\n      <td>tft lcd, 1.77\", 65.536 màu</td>\n      <td>0.3 mp</td>\n      <td>nan</td>\n      <td>nan</td>\n      <td>nan</td>\n      <td>nan</td>\n      <td>2 sim thường, hỗ trợ 2g</td>\n      <td>1000 mah</td>\n    </tr>\n    <tr>\n      <th>171</th>\n      <td>điện thoại mobell m229 (2019)</td>\n      <td>https://www.thegioididong.com/dtdd/mobell-m229...</td>\n      <td>190000</td>\n      <td>https://cdn.tgdd.vn/products/images/42/203509/...</td>\n      <td>đỏ, xanh dương, đen</td>\n      <td>tft lcd, 1.77\"</td>\n      <td>0.8 mp</td>\n      <td>nan</td>\n      <td>nan</td>\n      <td>nan</td>\n      <td>nan</td>\n      <td>2 sim thường</td>\n      <td>800 mah</td>\n    </tr>\n    <tr>\n      <th>172</th>\n      <td>điện thoại itel value 100</td>\n      <td>https://www.thegioididong.com/dtdd/itel-value-100</td>\n      <td>180000</td>\n      <td>https://cdn.tgdd.vn/products/images/42/211009/...</td>\n      <td>đen, đỏ</td>\n      <td>tft lcd, 1.77\", 256.000 màu</td>\n      <td>nan</td>\n      <td>nan</td>\n      <td>nan</td>\n      <td>nan</td>\n      <td>nan</td>\n      <td>2 sim thường, hỗ trợ 2g</td>\n      <td>1000 mah</td>\n    </tr>\n    <tr>\n      <th>173</th>\n      <td>điện thoại mobell m228</td>\n      <td>https://www.thegioididong.com/dtdd/mobell-m228</td>\n      <td>160000</td>\n      <td>https://cdn.tgdd.vn/products/images/42/85984/m...</td>\n      <td>đen &amp; xanh dương</td>\n      <td>tft lcd, 1.77\", 65.536 màu</td>\n      <td>vga (480 x 640 pixels)</td>\n      <td>nan</td>\n      <td>nan</td>\n      <td>nan</td>\n      <td>nan</td>\n      <td>2 sim thường, hỗ trợ 2g</td>\n      <td>800 mah</td>\n    </tr>\n  </tbody>\n</table>\n<p>174 rows × 13 columns</p>\n</div>"
     },
     "metadata": {},
     "execution_count": 106
    }
   ],
   "source": [
    "df.columns = df.columns.str.lower()\n",
    "df.apply(lambda x: x.astype(str).str.lower())"
   ]
  },
  {
   "cell_type": "code",
   "execution_count": null,
   "metadata": {},
   "outputs": [],
   "source": []
  }
 ]
}