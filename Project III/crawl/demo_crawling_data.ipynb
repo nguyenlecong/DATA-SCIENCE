{
 "metadata": {
  "language_info": {
   "codemirror_mode": {
    "name": "ipython",
    "version": 3
   },
   "file_extension": ".py",
   "mimetype": "text/x-python",
   "name": "python",
   "nbconvert_exporter": "python",
   "pygments_lexer": "ipython3",
   "version": "3.7.6-final"
  },
  "orig_nbformat": 2,
  "kernelspec": {
   "name": "python3",
   "display_name": "Python 3.7.6 64-bit",
   "metadata": {
    "interpreter": {
     "hash": "2e7551559daae743fd5a6b2b4bfe97d8cf6c753cb1c0fa8928f6e7ddcebdb42f"
    }
   }
  }
 },
 "nbformat": 4,
 "nbformat_minor": 2,
 "cells": [
  {
   "cell_type": "code",
   "execution_count": 1,
   "metadata": {},
   "outputs": [
    {
     "output_type": "stream",
     "name": "stdout",
     "text": [
      "30\nSinh viên Lê Công Nguyên có mã số sinh viên  20173290  học lớp KHMT 03 Khoa học máy tính thuộc Viện Công nghệ thông tin và truyền thông   Bạn học trường nào\n"
     ]
    }
   ],
   "source": [
    "\"\"\"Loại bỏ dấu câu và các kí tự đặc biệt\"\"\"\n",
    "import re\n",
    "\n",
    "special_characters = ('~','`','!','@','#','$','%','^','&','*','(',')','_','-','=','+','{','}','[',']',':',';','\"',',','<','.','>','?','/','|')\n",
    "\n",
    "text = '@ Sinh viên Lê Công Nguyên có mã số sinh viên: 20173290, học lớp KHMT.03-Khoa học máy tính;\\\n",
    "thuộc Viện Công nghệ thông tin và truyền thông!. Bạn học trường nào? ~`!@#$%^&*()_+-=}{][;:\",.<>?/|'\n",
    "\n",
    "print(len(special_characters))\n",
    "\n",
    "for i in special_characters:\n",
    "    text = text.replace(i, \" \")\n",
    "\n",
    "text = text.strip()\n",
    "print(text)"
   ]
  },
  {
   "cell_type": "code",
   "execution_count": 2,
   "metadata": {},
   "outputs": [
    {
     "output_type": "stream",
     "name": "stdout",
     "text": [
      "Sinh_viên Lê_Công_Nguyên có mã_số sinh_viên 20173290 học lớp KHMT 03 Khoa_học máy_tính thuộc Viện_Công_nghệ_thông_tin và truyền_thông Bạn_học trường nào\nDone\n"
     ]
    }
   ],
   "source": [
    "\"\"\"Tách từ\"\"\"\n",
    "\n",
    "from underthesea import word_tokenize\n",
    "\n",
    "word_tokenize_ = word_tokenize(text, format=\"text\")\n",
    "print(word_tokenize_)\n",
    "\n",
    "print('Done')"
   ]
  },
  {
   "cell_type": "code",
   "execution_count": 1,
   "metadata": {},
   "outputs": [
    {
     "output_type": "stream",
     "name": "stdout",
     "text": [
      "Done\n"
     ]
    }
   ],
   "source": [
    "\"\"\"import các thư viện\"\"\"\n",
    "\n",
    "# -*- coding: utf-8 -*-\n",
    "import re\n",
    "import csv\n",
    "import random\n",
    "import pandas as pd\n",
    "from time import sleep\n",
    "from selenium import webdriver\n",
    "from underthesea import word_tokenize\n",
    "from selenium.webdriver.common.by import By\n",
    "from selenium.webdriver.common.keys import Keys\n",
    "\n",
    "print('Done')"
   ]
  },
  {
   "cell_type": "code",
   "execution_count": null,
   "metadata": {},
   "outputs": [],
   "source": [
    "\"\"\"Giả lập giao diện\"\"\"\n",
    "\n",
    "browser = webdriver.ChromeOptions()\n",
    "prefs = {\"profile.default_content_setting_values.notifications\" : 2}\n",
    "browser.add_experimental_option(\"prefs\",prefs)\n",
    "browser = webdriver.Chrome(chrome_options=browser)\n",
    "print('Opened Browser')\n",
    "sleep(random.randint(5,10))\n",
    "\n",
    "print('Done')"
   ]
  },
  {
   "cell_type": "code",
   "execution_count": 8,
   "metadata": {},
   "outputs": [
    {
     "output_type": "stream",
     "name": "stdout",
     "text": [
      "Opened Facebook\n",
      "Filled Username\n",
      "Filled Password\n",
      "Logined\n",
      "Done\n"
     ]
    }
   ],
   "source": [
    "\"\"\"Đăng nhập vào Facebook\"\"\"\n",
    "\n",
    "browser.get('https://www.facebook.com/')\n",
    "print('Opened Facebook')\n",
    "sleep(random.randint(5,10))\n",
    "\n",
    "fill_username = browser.find_element_by_id('email')\n",
    "fill_username.send_keys('caoquocdat06@gmail.com')\n",
    "print('Filled Username')\n",
    "sleep(random.randint(5,10))\n",
    "\n",
    "fill_password = browser.find_element_by_id('pass')\n",
    "fill_password.send_keys('diepvien009')\n",
    "print('Filled Password')\n",
    "sleep(random.randint(5,10))\n",
    "\n",
    "fill_password.send_keys(Keys.ENTER)\n",
    "print('Logined')\n",
    "sleep(random.randint(5,10))\n",
    "\n",
    "print('Done')"
   ]
  },
  {
   "source": [
    "\"\"\"Load từng link từ file các link được thu thập\"\"\"\n",
    "\n",
    "with open('post_topic_link.txt', \"r\", encoding=\"utf-8\") as f:\n",
    "    for line in f:\n",
    "        lines = line.rstrip('\\n')\n",
    "        print(lines)\n",
    "        browser.get(lines)\n",
    "        sleep(random.randint(5,10))\n",
    "f.close()\n",
    "print('Done')"
   ],
   "cell_type": "code",
   "metadata": {},
   "execution_count": 11,
   "outputs": [
    {
     "output_type": "stream",
     "name": "stdout",
     "text": [
      "https://www.facebook.com/tranvan.top.61/posts/3438888682884796\n",
      "https://www.facebook.com/groups/DiemRenLuyenHUST/permalink/940454153111068/\n",
      "https://www.facebook.com/groups/familyk63.hust/permalink/1522571664592642/\n",
      "https://www.facebook.com/groups/familyk63.hust/permalink/1522993041217171/\n",
      "https://www.facebook.com/hoisinhvienbkhn/posts/4035025726514606\n",
      "https://www.facebook.com/hotrosinhvienbk/posts/2750290891884576\n",
      "https://www.facebook.com/hotrosinhvienbk/posts/2749705975276401\n",
      "https://www.facebook.com/hustconfession/posts/3570779206307569\n",
      "https://www.facebook.com/hustconfession/posts/3530354043683419\n",
      "Done\n"
     ]
    }
   ]
  },
  {
   "cell_type": "code",
   "execution_count": 12,
   "metadata": {},
   "outputs": [
    {
     "output_type": "stream",
     "name": "stdout",
     "text": [
      "Loaded Link Post\n",
      "Done\n"
     ]
    }
   ],
   "source": [
    "\"\"\"Load link\"\"\"\n",
    "\n",
    "browser.get('https://www.facebook.com/groups/familyk63.hust/permalink/1522645617918580/')\n",
    "print('Loaded Link Post')\n",
    "sleep(random.randint(5,10))\n",
    "\n",
    "print('Done')"
   ]
  },
  {
   "cell_type": "code",
   "execution_count": 14,
   "metadata": {},
   "outputs": [
    {
     "output_type": "stream",
     "name": "stdout",
     "text": [
      "Done\n"
     ]
    }
   ],
   "source": [
    "\"\"\"Xem tất cả các bình luận\"\"\"\n",
    "\n",
    "has_more_comments = True\n",
    "while has_more_comments:\n",
    "    try:\n",
    "        # show_all_comment = browser.find_element_by_xpath(\"//*[contains(text(), 'Xem thêm bình luận')]\")\n",
    "        show_all_comment = browser.find_element_by_xpath('//div[@class=\"j83agx80 bkfpd7mw jb3vyjys hv4rvrfc qt6c0cv9 dati1w0a l9j0dhe7\"]\\\n",
    "            /div[@class=\"j83agx80 buofh1pr jklb3kyz l9j0dhe7\"]')\n",
    "        print(show_all_comment.text)\n",
    "        show_all_comment.click()\n",
    "        sleep(random.randint(5,10))\n",
    "\n",
    "    except:\n",
    "        has_more_comments = False\n",
    "        print('Done')"
   ]
  },
  {
   "cell_type": "code",
   "execution_count": 19,
   "metadata": {},
   "outputs": [
    {
     "output_type": "stream",
     "name": "stdout",
     "text": [
      "10 phản hồi\n",
      "Ẩn 13 phản hồi\n",
      "Done\n"
     ]
    }
   ],
   "source": [
    "\"\"\"Xem các phản hồi\"\"\"\n",
    "\n",
    "hasReplies = True\n",
    "while hasReplies:\n",
    "    try:\n",
    "        reps = browser.find_elements_by_xpath('//div[@class=\"kvgmc6g5 jb3vyjys rz4wbd8a qt6c0cv9 d0szoon8\"]\\\n",
    "            /div[@class=\"j83agx80 buofh1pr jklb3kyz l9j0dhe7\"]')\n",
    "        for rep in reps:\n",
    "            print(rep.text)\n",
    "            rep.click()\n",
    "            sleep(random.randint(5,10))\n",
    "\n",
    "    except:\n",
    "        hasReplies = False\n",
    "        print('Done')\n"
   ]
  },
  {
   "cell_type": "code",
   "execution_count": 20,
   "metadata": {},
   "outputs": [
    {
     "output_type": "stream",
     "name": "stdout",
     "text": [
      "Done\n"
     ]
    }
   ],
   "source": [
    "\"\"\"Xem thêm các phản hồi\"\"\"\n",
    "\n",
    "has_more_Replies = True\n",
    "while has_more_Replies:\n",
    "    try:\n",
    "        more_rep = browser.find_element_by_xpath('//div[@class=\"l9j0dhe7\"]/div[@class=\"j83agx80 buofh1pr jklb3kyz l9j0dhe7\"]')\n",
    "        print(more_rep.text)\n",
    "        more_rep.click()\n",
    "        sleep(random.randint(5,10))\n",
    "        \n",
    "    except:\n",
    "        has_more_Replies = False\n",
    "        print('Done')"
   ]
  },
  {
   "source": [
    "\"\"\"Hiển thị các bình luận dài\"\"\"\n",
    "\n",
    "long_comment = True\n",
    "while long_comment:\n",
    "    try:\n",
    "        see_more = browser.find_element_by_xpath('//div[@class=\"ecm0bbzt e5nlhep0 a8c37x1j\"]/span/\\\n",
    "            div[@class=\"kvgmc6g5 cxmmr5t8 oygrvhab hcukyx3x c1et5uql\"]/div/div')\n",
    "        print(see_more.text)\n",
    "        see_more.click()\n",
    "        sleep(random.randint(5,10))\n",
    "\n",
    "    except:\n",
    "        long_comment = False\n",
    "        print('Done')"
   ],
   "cell_type": "code",
   "metadata": {
    "tags": []
   },
   "execution_count": 22,
   "outputs": [
    {
     "output_type": "stream",
     "name": "stdout",
     "text": [
      "Xem thêm\n",
      "Xem thêm\n",
      "Done\n"
     ]
    }
   ]
  },
  {
   "cell_type": "code",
   "execution_count": 24,
   "metadata": {},
   "outputs": [
    {
     "output_type": "execute_result",
     "data": {
      "text/plain": [
       "'d:\\\\Tai Lieu\\\\HUST-Study\\\\20201\\\\Project3\\\\fb_crawling\\\\crawl'"
      ]
     },
     "metadata": {},
     "execution_count": 24
    }
   ],
   "source": [
    "pwd ls"
   ]
  },
  {
   "cell_type": "code",
   "execution_count": 25,
   "metadata": {},
   "outputs": [
    {
     "output_type": "stream",
     "name": "stdout",
     "text": [
      "d:\\Tai Lieu\\HUST-Study\\20201\\Project3\\fb_crawling\n"
     ]
    }
   ],
   "source": [
    "cd d:\\\\Tai Lieu\\\\HUST-Study\\\\20201\\\\Project3\\\\fb_crawling"
   ]
  },
  {
   "source": [
    "\"\"\"Lấy phần text của bình luận và ghi vào file\"\"\"\n",
    "\n",
    "comment_content = browser.find_elements_by_xpath(\"//div[@class='ecm0bbzt e5nlhep0 a8c37x1j']\")\n",
    "# for comment in comment_content:\n",
    "#         print(comment.text)\n",
    "with open('data/data_for_prediction.csv', mode='a', encoding='utf-8', newline='') as file:\n",
    "    for comment in comment_content:\n",
    "        print(comment.text)\n",
    "        writer = csv.writer(file, delimiter=',')\n",
    "        writer.writerow([comment.text, '0'])\n",
    "file.close()\n",
    "\n",
    "print('Done')"
   ],
   "cell_type": "code",
   "metadata": {
    "tags": []
   },
   "execution_count": 26,
   "outputs": [
    {
     "output_type": "stream",
     "name": "stdout",
     "text": [
      "Nghĩ lại năm của mình 105k/1 tín chỉ mà thấy ấm lòng\n",
      "Kỳ 2 năm nhất còn có 2tr6. Giờ nhìn các em đóng gấp 9,10 lần mà sợ.\n",
      "1 năm dao động đến 40tr cho nhanh. Với mức học phí này gần bằng chương trình quốc tế ngày xưa và sv đa số học bk là con nông dân bố mẹ làm nông. Thóc gạo giờ cũng rẻ quy ra phải cấy mấy mẫu mới đủ tiền đóng 1 kì chưa kể nhiều bạn nhà còn có em nữa. mà học bổng cũng có số lượng đâu phải nhiều.\n",
      "Lâm Quyền lấy được học bổng đủ chết r\n",
      "Lâm Quyền thấy mng cmt bảo thầy cô giáo đọc slide. ĐÚNG. Có môn e học thầy đi dạy 3/15 hay 16 buổi k nhớ nữa. Và thầy lập group KÍN. Những ai đi học hôm đấy mới biết được học hay nghỉ. Thầy đăng bài với các nội dung như là:\" HÔM NAY NGHỈ CÁC EM NHÉ; HÔM NAY THẦY BẬN.....\"\n",
      "Đến cuối kì thầy xóa hết cmn bài đăng thầy báo nghỉ, chỉ để lại những bài đăng thông báo kiểm tra hay slide\n",
      "Để ra trường đúng hạn, tối thiểu tầm 16 tín (học phần) một kỳ. Nhưng đáng nói là tín học phí thường chẳng bằng tín học phần (thường x1.2 hoặc 1.5) và từ năm 2 năm 3 có vô số các kiểu thực hành, thí nghiệm. Nên học phí bị dôi lên rất nhiều so với thông tin trường đưa ra.\n",
      "Tiếp sau đó, bạn tính năm nhất mình 20 triệu (không học tiếng Anh, chương trình đại trà, tín rẻ gần nhất trường), riêng kỳ này mình đã gần 12tr5 (16 tín học phần), kỳ sau thí nghiệm nhiều, tiền học cũng sẽ xêm xêm như này.\n",
      "Đến năm 3, tiếp tục tăng, học phí sẽ vào khoảng 30 củ một năm chứ không phải 24 củ nữa. Cứ thế cứ thế .....\n",
      "Và cái sinh viên bức xúc là tiền tăng mà cơ sở vật chất, chăm sóc sinh viên không thấy tăng\n",
      "thế tăng làm gì?\n",
      "À đợt mình tìm hiểu là khoảng 17tr cho năm nhất nhé\n",
      "Đỗ Thanh Thủy e cũng vì điều này mà đẩy hust lên nv1 ạ\n",
      "Cao Nam\n",
      "Nguyễn Thúy Quỳnh năm 3 đc đi làm ùi k lo hehe\n",
      "Lí thuyết với thực tế khác nhau nhiều đó!\n",
      "cái quan trọng là học phí tăng phải đi đôi với chất lượng đào tạo, các bạn nghĩ sao khi đến lớp học có giảng viên ngồi chỉ đọc slide mà không giảng gì, có khi nghỉ mà không thông báo cho sinh viên.\n",
      "học phí kia là nhà trường đăng kí cho lúc với vào trường tầm 12-14 tín thôi. còn sau tự đăng kí hơn thì tiền nó lại khác bọt . kiểu có môn 0 tín học phần 5 tín học phí\n",
      "Vũ Văn Thực 0 tín học phần là như nào ạ.. ?\n",
      "tín học phần bằng 0 cần qua môn là được\n",
      "Môn Qsc chẳng hạn 5 tín học phí 0 tín học phần\n",
      "Quản Đức Trung 5,5 chws nhir\n",
      "Vũ Văn Thực tôi cx mang máng nhưng là chát vch ra\n",
      "Vũ Văn Thực thế bạn ko tính môn 0 tín học phần 6 tín học phí mak 2 kỳ đầu ae phải học ak\n",
      "Trung Nguyễn Thế thì cứ từ từ nhỡ e nó k phải học\n",
      "Trung Nguyễn Thế em là khóa mới nên đọc cmt hơi hoang mang\n",
      "cho em hỏi sao lại có 0 tín học phần nhưng 6 tín học phí là sao ạ?\n",
      "Hy 0 tín học phần tức là môn đấy không tính vào điểm trung bình, chỉ cần qua môn là được\n",
      "Còn 6 tín học phí thì là số tiền em phải nộp ứng với môn đấy thôi\n",
      "môn TA ý\n",
      "Nói thật thì cũng tầm 20-24tr/năm thôi, để anh tính cho nhé, cứ lấy rẻ là 500k/tín như anh đi thì mỗi kì đăng kí 12 tín học phần vào tầm khoảng 20 tín học phí thì mỗi kì chỉ 10tr thôi\n",
      ", 1 năm 2tr là đúng rồi. Còn đây là tại anh ko đăng kí đúng 12 tín học phần nên nó mới lên đến từng này 1 kì :((\n",
      "Nguyễn Đức Tú 12 cj anh của em phải 24 tín xđôi lên\n",
      "19 tín học phần đấy à\n",
      "Cứ mỗi năm tăng 10% học phí thế này thì kì sau nên học đủ 24 tín\n",
      "Chủ tút chắc nhà thuộc dạng khá nhìn học phí xong vẫn ổn\n",
      "Đấy là chưa tính tạch môn bạn ạ\n",
      "Năm nhất mình miễn tiếng anh, kì 1 có 11 12tr à, kì 2 thì có covid, xin giảm đc còn có 7tr hơn :))\n",
      "Học phí cao, nhiều bạn thắc mắc là đúng còn gọi 0969611609 lắp wifi mạng chắc nhiều bạn chưa biết :))))\n",
      "ăn thua gì sau ra trưởng làm một tháng 25 tr thì học bách khoa 5 năm coi như đi làm 5 tháng thôi. các em cứ nghĩ nthe cho nó yêu đời\n",
      "trk mắt bố mẹ em phải đi vay lãi để đóng học cho em rồi anh ơi .mấy ngày này chắc bố mẹ em già đi mấy tuổi .\n",
      "Lê Ngọc Dương nhà mình cũng phải vay ngân hàng để nuôi ae mình ăn học đại học , biết thế thì nên cố gắng học cho tốt\n",
      "các em đừng lo. sau này các em học lại nữa học phí x1.5 hè 1.7 thì các e k còn nghĩ đến chuyện học phí ban đầu đắt hay rẻ đâu\n",
      "Nguyễn Hoàng Sơn gớm mặt hầy\n",
      "Nguyễn Như Tú 1 câu chiện pùn a ạ\n",
      "Nguyễn Hoàng Sơn pùn thặc pùn\n",
      "bạn nên vào trường trải nghiệm.\n",
      "Mình là đứa chưa từng chửi trường bao giờ, sau một năm học mình với bạn mình ngày ngày nào cũng chửi trường.\n",
      "Đỗ Thanh Thủy láo láo quá\n",
      "phải tôi tôi .... Ko biết làm ntn bế tắc\n",
      "Đỗ Thanh Thủy tôi cũng thế :(( nhìn cái HP mà chán. Cảm giác ngày xưa đi tư vấn TS bị lừa.\n",
      "1 kì của ct đại trà\n",
      "1 năm 2 kì thì tự tính nhé\n",
      "Ngọc Duy Tân năm mấy đây a\n",
      "Nguyễn Cao Nam mới năm 2 thôi bạn\n",
      "Phạm Quang Sang số lượng tín yêu cầu vẫn phải đủ khoảng 120 tín mới được trình độ cử nhân, thế đki ít r năm sau vẫn tăng, cứ thế học 5 6 năm lấy bằng cử nhân thì mất bao nhiêu vậy cậu?\n",
      "Ngọc Duy Tân bn tín bro\n",
      "Tiến Nguyễn 17\n",
      "Ngọc Duy Tân tôi cũng 17\n",
      "\n",
      "Nhưng ko có qsc\n",
      "Tiến Nguyễn t có\n",
      "Ngọc Duy Tân có thì số kia thêm 2tr1\n",
      "Cũng 13tr\n",
      "Tiến Nguyễn\n",
      "Thôi kỳ sau đăng ký qsc chứ để năm sau ko biết sao nữa\n",
      "6h30 hàng ngày\n",
      "Huy Nguyen Dang m không có duyên rồi\n",
      "Xa bờ đi em\n",
      "17-25tr/năm kiểu gì khi mình học kì này đã ~15tr rồi\n",
      "à chương trình đại trà nhé mức học phí của ngành mình cũng thuộc top thấp rồi đấy\n",
      "Mai Mai thế à cậu. Sao cao quá vậy\n",
      "Lâm Nguyễn gớt nước mắt anh ạ\n",
      "Mai Mai chịu khó đi làm vào nhá, đi học ít thôi\n",
      "rẻ mà mấy đứa\n",
      "Nếu mỗi kì học khoảng 12-13 TCHP thì khoảng 17-18 TC học phí . thì đúng tầm 17-25tr/năm\n",
      "nhưng khoangr7-8 năm mới ra trường\n",
      "Anh Tuan\n",
      "trường mình yêu cầu phải đủ bao nhiêu TCHP thì mới ra trường được vậy ạ?\n",
      "Ak, thông báo là thông báo, chỉ như quảng cáo thôi\n",
      "Đổi chữ năm thành chữ kì đi\n",
      "Trc mình ko chửi trường nhưng hôm nay thí nghiệm lý 2 về thì mình ko chửi ko đc\n",
      "Nguyễn Thị Thanh Trà vl sao thế\n",
      "Nguyễn Thị Thanh Trà mình hôm thi nghiệm ở 203 D3 có một máy thí nghiệm nhóm 6 bị hỏng xong loay hoay mất gần hết giờ thầy mới bảo đổi máy . Buồn thực sự\n",
      "Tự đánh giá e nhé\n",
      "Lê Ngọc Hoàng 1 kì mà 17 củ cơ ạ. 1 năm là 2 kì rưỡi à a\n",
      "Thiện Vũ kì này học nhiều nên hơi cao, trung bình 15 thôi! Hè học hay k thì tùy nhưng thường là có học\n",
      "1 năm có mấy kì hả a\n",
      "Thiện Vũ 2 ki chính , 1 kì hè k bắt buộc phải hk . Kì hè thường là học lại hoặc hk trc , học phí nhân 1.5 so vs học kì chính trừ thực tập thấy k nhân .\n",
      "K62 kì này 21 tín mà có 13m7 , nhìn học phí các e sợ thế\n",
      "Sinh viên trường cài vào à\n",
      "Hưng em mới 2k2 đang đợi kqua thôi ạ\n",
      ". Dạo này em ít dùng facebook nên mù tin tức. Đăng bài hỏi để biết thêm chi tiết thôi\n",
      "Ac nào bên IT cho e hỏi năm vừa r hết bao nhiêu ạ\n",
      "Minh Thuý năm nhất nếu học tanh 1-2 thì mất tầm 28 củ , còn từ năm 2 thì tầm 27-30 củ và cứ tăng theo các năm e nhé\n",
      "Đức Thắng nếu không học tiếng anh thì mất bn vậy a huhu\n",
      "Minh Thuý thế năm nhất chỉ tầm 23-24 củ thôi e, còn từ năm 2 trở đi thì vẫn 27-30 củ và cứ tăng dần về sau vì hphi tăng qua các năm :((\n",
      "Đức Thắng vâng ạ\n",
      "Tuổi trẻ chưa trải sự đời rồi\n",
      "Trần Thị Xuân Thanh\n",
      "Cho mình hỏi cái bước xác nhận nhập học mình có được gửi chuyển phát nhanh bưu điện k ạ hay bắt buộc phải lên trường ạ mình cảm ơn\n",
      "Bạn đã mua hàng trên mạng bao giờ chưa, nó cũng kiểu kiểu như thế đấy\n",
      "Hoàng mình mua sách trên mạng nhiều rồi nhưng chưa thấy trường hợp nào ntn cả :<\n",
      "Hoàng tui mua sale ;;-;;\n",
      "17-25tr/ năm kiểu gì khi mà các bạn đăng lên chương trình đại trà kì này toàn 13-15 triệu\n",
      "Lê Minh Tú cái đó mình ko biết. Nhưng mà trường đăng thế thì mình cũng nghĩ vậy thui :<\n",
      "Tô Văn Hoàng Hiệp trường bảo tăng 10% năm nên tôi từ 440 lên 500 nè\n",
      "ahihi đồ ngốk\n",
      "Lê Minh Tú mình học ngành có số tiền tín rẻ nhất mà đã 13tr3 rồi.\n",
      "Lê Minh Tú anh ơi vậy ct chuẩn thì 1 năm tầm bn cho k65 ạ\n",
      "Tô Văn Hoàng Hiệp tăng 10% 1 năm hjhj từ 500 lên 600 nek =))) mail hứa hẹn năm sau chỉ tăng tối đa 8% =))) k biết từ 600 có lên 700 thôi\n",
      "Lê Minh Tú tôi kì này 18 củ :((\n",
      "Lê Minh Tú năm đầu vào hứa hẹn tăng từ 400-440-480\n",
      "Xg covid xg lên 500. Ôi ko hiểu kiểu gì.\n",
      "Bảo là nhà trường đã ko tính covid. Uk thì có covid phải giảm. Đây còn tăng thêm mấy phần trăm nữa\n",
      "Tô Văn Hoàng Hiệp chưa trải sự đời\n",
      "Phạm Nhật Minh ko biết thì mới hỏi chứ bạn. Bây h chẳng nhẽ ko biết thì lại im lặng????\n",
      "Tô Văn Hoàng Hiệp ý bạn nói là nhà trường nói thế bạn biết thế, còn ý mình là người ta kêu có lí do cả\n",
      "mình cũng đang lo k biết giờ vay tiền đâu để học nên nếu mình có nói lỡ lời bạn cho mình xin lỗi ạ\n",
      "Tô Văn Hoàng Hiệp còn việc lên tiếng thì sinh viên đang tích cực lên tiếng nhưng chưa có lơi giải thích thỏa đáng bạn nhé\n",
      "haha tăng mạnh hơn nhìu đó bạn thế còn ít\n",
      "không học thì bỏ, thắc mắc nhiều\n",
      "gk3^\n",
      ":))) chán\n",
      "Nguyễn Đức Lâm idol làm sao hiểu đc lỗi lòng của sinh viên nghèo bọn r\n",
      "Lê Giỏi nghèo thì học đi, học k học toàn nghỉ r than cc\n",
      "Nguyễn Đức Lâm vl thằng nào mơid nghỉ lý hôm thứ 4 đấm cho giờ\n",
      "Thực tế lên bạn\n",
      "Đỗ Huy Vũ đi bán thận ko em\n",
      "Đỗ BK\n",
      "bth mà man,k tới mức bán thận\n",
      "Đỗ Huy Vũ thôi học 4 năm thôi\n",
      "Đỗ BK\n",
      "4 năm rưỡi đổ lên\n",
      "Đỗ Huy Vũ thế 4.5 năm\n",
      "Đỗ BK\n",
      "ra được nổi không\n",
      "Đỗ Huy Vũ clm mày phải tin tưởng tao\n",
      "Đỗ Huy Vũ clm :(((\n",
      "Đỗ BK\n",
      "Đỗ Huy Vũ chắc t đi lm r cmay vẫn đang hc sml cười :))\n",
      "Nguyễn Tin Nhung chắc thế bạn ơi\n",
      "Nguyễn Tin Nhung đến lúc t nghỉ hưu m vẫn làm sml cười :33\n",
      "Kì này tôi 16tr r bạn\n",
      "cái đấy nó ghi ảo đấy\n",
      "Phạm Nhật Minh anh học ngành gì ạ?\n",
      "Nguyễn Xuân Chii tự động hóa em ạ\n",
      "Done\n"
     ]
    }
   ]
  },
  {
   "cell_type": "code",
   "execution_count": 3,
   "metadata": {},
   "outputs": [
    {
     "output_type": "stream",
     "name": "stdout",
     "text": [
      "Done\n"
     ]
    }
   ],
   "source": [
    "\"\"\"Thêm tên cột cho file bằng thư viện pandas\"\"\"\n",
    "\n",
    "df = pd.read_csv('data/data_for_prediction.csv', header=None)\n",
    "df.columns = ['Text', 'Sentiment']\n",
    "df.to_csv('data/data_for_prediction.csv', index = False)\n",
    "\n",
    "print('Done')"
   ]
  },
  {
   "cell_type": "code",
   "execution_count": null,
   "metadata": {},
   "outputs": [],
   "source": [
    "\"\"\"Đóng trình duyệt\"\"\"\n",
    "\n",
    "browser.close()\n",
    "\n",
    "print('Done')"
   ]
  },
  {
   "cell_type": "code",
   "execution_count": 13,
   "metadata": {},
   "outputs": [
    {
     "output_type": "stream",
     "name": "stdout",
     "text": [
      "Loaded Link Post\n",
      "Done\n"
     ]
    }
   ],
   "source": [
    "\"\"\"Load link of page post\"\"\"\n",
    "\n",
    "browser.get('https://www.facebook.com/hoisinhvienbkhn/posts/4035025726514606')\n",
    "print('Loaded Link Post')\n",
    "sleep(random.randint(5,10))\n",
    "\n",
    "print('Done')"
   ]
  },
  {
   "cell_type": "code",
   "execution_count": 36,
   "metadata": {},
   "outputs": [],
   "source": [
    "\"\"\"Lúc khác\"\"\"\n",
    "another_time = browser.find_element_by_class_name('_3j0u')\n",
    "print(another_time.text)\n",
    "another_time.click()\n",
    "sleep(random.randint(5,10))\n",
    "print('Done')"
   ]
  },
  {
   "cell_type": "code",
   "execution_count": 31,
   "metadata": {},
   "outputs": [
    {
     "output_type": "stream",
     "name": "stdout",
     "text": [
      "810 bình luận\n",
      "Done\n"
     ]
    }
   ],
   "source": [
    "\"\"\"Xem bình luận\"\"\"\n",
    "try:\n",
    "    show_cmt = browser.find_element_by_xpath('//*[@id=\"u_0_u\"]/div/div[2]/div[1]/div/div[3]/span[1]/a')\n",
    "    print(show_cmt.text)\n",
    "    show_cmt.click()\n",
    "    sleep(random.randint(5,10))\n",
    "except:\n",
    "    show_cmt = browser.find_element_by_xpath('//*[@id=\"u_0_18\"]/div/div[2]/div[1]/div/div[3]/span[1]/a')\n",
    "    print(show_cmt.text)\n",
    "    show_cmt.click()\n",
    "    sleep(random.randint(5,10))\n",
    "    \n",
    "print('Done')"
   ]
  },
  {
   "cell_type": "code",
   "execution_count": 20,
   "metadata": {},
   "outputs": [
    {
     "output_type": "stream",
     "name": "stdout",
     "text": [
      "Xem thêm bình luận\n",
      "Xem thêm bình luận\n",
      "Xem thêm bình luận\n",
      "Done\n"
     ]
    }
   ],
   "source": [
    "has_more_cmt_page = True\n",
    "while has_more_cmt_page:\n",
    "    try:\n",
    "        show_more_cmt = browser.find_element_by_xpath('//span[@class=\" _4ssp\"]')\n",
    "        print(show_more_cmt.text)\n",
    "        show_more_cmt.click()\n",
    "        sleep(random.randint(5,10))\n",
    "    except:\n",
    "        has_more_cmt_page = False\n",
    "        print('Done')"
   ]
  },
  {
   "cell_type": "code",
   "execution_count": 35,
   "metadata": {},
   "outputs": [
    {
     "output_type": "stream",
     "name": "stdout",
     "text": [
      "3 phản hồi\n",
      "10 phản hồi\n",
      "11 phản hồi\n",
      "39 phản hồi\n",
      "5 phản hồi\n",
      "1 phản hồi\n",
      "2 phản hồi\n",
      "23 phản hồi\n",
      "5 phản hồi\n",
      "3 phản hồi\n",
      "65 phản hồi\n",
      "Xem thêm 15 phản hồi\n",
      "5 phản hồi\n",
      "Done\n"
     ]
    }
   ],
   "source": [
    "hasReplies = True\n",
    "while hasReplies:\n",
    "    try:\n",
    "        rep = browser.find_element_by_xpath('//div[@class=\"_4swz _7a9e _7a93\"]')\n",
    "        # rep = browser.find_element_by_xpath('//a[@class=\"_4sxc _42ft\"]')\n",
    "        print(rep.text)\n",
    "        rep.click()\n",
    "        sleep(random.randint(5,10))\n",
    "\n",
    "    except:\n",
    "        hasReplies = False\n",
    "        print('Done')"
   ]
  },
  {
   "cell_type": "code",
   "execution_count": 56,
   "metadata": {},
   "outputs": [
    {
     "output_type": "stream",
     "name": "stdout",
     "text": [
      "Xem thêm\n",
      "Xem thêm\n",
      "Xem thêm\n",
      "Done\n"
     ]
    }
   ],
   "source": [
    "long_comment = True\n",
    "while long_comment:\n",
    "    try:\n",
    "        see_more = browser.find_element_by_xpath('//a[@class=\"_5v47 fss\"]')\n",
    "        print(see_more.text)\n",
    "        see_more.click()\n",
    "        sleep(random.randint(5,10))\n",
    "\n",
    "    except:\n",
    "        long_comment = False\n",
    "        print('Done')"
   ]
  },
  {
   "cell_type": "code",
   "execution_count": 57,
   "metadata": {
    "tags": []
   },
   "outputs": [
    {
     "output_type": "stream",
     "name": "stdout",
     "text": [
      "Điều em mong muốn nhất là Tính Số tín chỉ học phí sẽ *BẰNG* ( =) với số Tín chỉ học phần đăng kí học....và hơn nữa ngừng tăng % mỗi năm:)...chất lượng hiện tại đã quá đủ với em rồi.em không cần nâng cao thêm chất lượng đào tạo nữa đâu ạ.\n",
      "Ơ thế học thể dục với quân sự chung các thứ miễn phí à\n",
      "Nguyễn Vũ ukm cái đồ án thì tùy ngành mà ngày 10 or 12 tín chỉ tích lũy ứng vs 25 30 j đó tùy hoi\n",
      "Đỗ Ánh ngành tôi 30 tín.\n",
      "Nguyễn Vũ đồ án tốt nghiệp 10 tín học phần 25 tín học phí cái này có từ rất lâu rồi chứ ko fai h mới có b ơi.\n",
      "còn tăngphần trăm qua các năm thì năm nào cũng tăng chứ đâu fai bây h đâu .\n",
      "chỉ là nó tăng nhiều hơn so với các năm trc thôi\n",
      "Mình chỉ thấy là tăng học phí không sai, nhưng cách tính tín chỉ học phần vs tín chỉ học phí hơi lệch thôi!\n",
      "Đăng Hùng thôi cố gắng lên e :)\n",
      "Linh Lê Văn ở hội sinh viên đúng ko :v\n",
      "Đăng Hùng đồ án tốt nghiệp kĩ sư đó.\n",
      "12 tín học phần, 30 tín học phí.\n",
      "Đăng Hùng kỹ sư kĩ thuật b ạ\n",
      "Gì mak gấp mấy lần cơ, lại giống đám nhà báo nghe đc 1 nửa hiểu 1 chém gió x10 ak\n",
      "Linh Lê Văn 1 năm lạm phát 3%,còn rhust tăng 5%,trong khi cả thế giới đang đau đầu về lạm phát ông lại cổ xúy ạ\n",
      "Lại Văn Oanh sao hôm trc có nghe là 12 tín học 30 tín phí =))) nghe sợ thật sự :v\n",
      "Vậy là chưa làm đồ án Tốt Nghiệp rồi.. 9 chỉ học và... 22,5 chỉ học phí :)))\n",
      "Linh Lê Văn đoán a là k61 trở về trc, học phí rẻ nên ko quan tâm về vấn đề này. Bao h đóng 16tr 1 kì thì mới hiểu đc.\n",
      "Hiếu Đang Học Bài tranh luận rõ ràng, đừng công kích cá nhân =)) đã biết mình ở đâu mà vội gáy to thế\n",
      "Linh Lê Văn tiền bó rau ngoài chợ là tùy vụ mùa được hay không chứ lạm phát chắc phải còn lâu nữa bó rau mới tăng 1 nghìn. Bó rau khoảng 5k đến 10k mà tăng 3%/năm thì là bao nhiêu. Bạn mà để ý được thì cũng ghê đấy.\n",
      "Hoàng Henry tăng % qua mỗi năm là do trường đang dần tự chủ nhà nước giảm dần hỗ trợ chứ k cắt ngay k thì từ k61 hp nó đã nhảy vọt lên r nhưng sẽ hợp lí hơn nếu mỗi khoá chỉ tăng 1-2 lần 10% thôi chứ năm nào cũng tăng thì chết thật :v\n",
      "b mua rau bị lên giá là b k biết mua dồi, tăng thì tăng có mức độ thôi trường bạn neu có tăng nữa đâu🙂\n",
      "Linh Lê Văn vào mà đóng, ở đấy bốc phét\n",
      "Hoàng Henry 1 năm đã lạm phát 3%. Bó rau ngoài chợ còn lên giá bảo học phí không tăng?\n",
      "Hoàng Henry Chuẩn á.. hai cái này là vô lý nhất luôn. Tín chỉ học phí đã gấp mấy lần tín học phần rồi,, tiền 1 tín thì có phải rẻ rúng gì đâu?! xong còn tăng tiền qua mỗi năm:D không hiểu cái tăng % tiền học qua mỗi năm để làm gì trong khi kêu số tiền đó sẽ được dùng để cải thiện csvc:))) và đến giờ csvc vẫn “xịn” y như cũ;) có gì thay đổi chết liền😒\n",
      "Và ban hội đồng sẽ giải thích :)). Nhưng học phí vẫn đắt như vậy thôi.\n",
      "Sinh Viên cũng chỉ là một khách hàng , đến đây mua sản phẩm là kiến thức, đắt quá thì đi về :).\n",
      "Vậy con nhà nghèo là không nên đi học dh rồi.\n",
      "Bigcity girl\n",
      "Nguyễn Xuân nói như lồn\n",
      "Nguyễn Xuân Tao đéo thích chửi đâu vì nó mất tg lắm mày\n",
      "Nguyễn Xuân đm.Mày nói về là về được à\n",
      "Nguyễn Xuân đừng nên tự cao quá :))\n",
      "t ghét những kẻ kiêu ngạo.Khinh\n",
      "Nghe chua chát mà nó thấm :)))\n",
      "Nguyễn Xuân tôi tự hào vì bạn❤️\n",
      "khách hàng còn phải chịu với giá đó, đâu phải nói về là về đx\n",
      "On top ;))\n",
      "Nguyễn Xuân khách hàng còn ko đc mặc cả cơ :))\n",
      "Hà Thu Ôi bạn ơi, nhiều người vẫn phải bỏ học vì không nộp được học phí mà. 3 năm vẫn bỏ là bình thường ;v\n",
      "Nguyễn Xuân đắt quá cũng có về được đâu . Đắt quá vẫn phải mua bạn ạ:))))\n",
      "Phạm Lan Hương làm về chưa , đợi cơm.\n",
      "Nguyễn Xuân on top\n",
      "Chị đợi em còn em thù đợi xe😂😂 tiền làm mình phải chờ đợi\n",
      "Nguyễn Xuân chúng ta là người sử dụng dịch vụ. Dù giáo dục có là hình thức dịch vụ đặc biệt thì chúng ta cũng có quyền lên tiếng. Yên tâm, sẽ phải khác. Nếu không sẽ ảnh hưởng toàn bộ hình ảnh của trường và công tác tuyển sinh. Về tính chất lâu dài thì lần này không im ỉm được đâu bạn\n",
      "Nguyễn Xuân đắt quá thì nhắc nhở mọi người phía sau đi chỗ khác :))\n",
      "thấy bách khoa đa phần con nhà không khá giả gì mà mức học phí như này thì đúng là cao quá.\n",
      "Không biết có thể điều chỉnh vòi xịt ở wc d6 k ạ, bên nữ chưa đc trải nghiệm nhưng bên nam mạnh phát rát lun ạ :(\n",
      "Lại chuẩn bị có buổi livestream của Bgh giải đáp thắc mắc cho các em sv\n",
      "Đợt thu học phí do dịch covid cũng đúng kịch bản này. Mang tiếng lắng nghe SINH VIÊN nhưng TIỀN thì vẫn thu theo ý kiến của trường hihi 🙂\n",
      "Thu Uyên trường bạn tăng học phí ntn mà hot thế =)))\n",
      "Giờ em chỉ chờ mấy buổi sinh hoạt công dân, những buổi lai trym để tham gia đầy đủ để kiếm điểm rèn luyện. Sợ bị đình chỉ mất kì học, không có cơ hội nộp tiền học phí phải ra trường muộn!\n",
      "Em k cần giải thích gì cả, em chỉ cần giảm học phí thôi ạ\n",
      "Giờ phải đổi tên trường là : Royal Ha noi university of science and technology mới đúng đẳng cấp học phí 😂😂😂😂\n",
      "Em chỉ biết là trên trang chủ ngành em định theo ghi mức học phí là 17-22 triệu/ năm, các ac thì bảo là cứ tầm 30 chục. Hoang mang sờ tai quá ạ\n",
      "Cái học phí này cũng giống như truyền hình vậy, trước giờ xem free hoặc trợ giá quen rồi nên đến lúc đúng giá thì thấy nó cao thôi\n",
      "Kịch bản lại là: đăng tbao về 1 buổi làm việc của hsv vs nhà trường, hsv tổng hợp ý kiến nhằm xoa dịu dư luận và làm sv nghĩ nhà trường và hsv luôn lắng nghe tiếp thu ý kiến sv, để vài ngày vài tuần cho dịu lại rồi lại đăng 1 cái văn bản thông báo kết quả buổi làm việc là nhà trường đã nghe được ý kiến các em \"chủ thể\", csvc sẽ được cải thiện nhanh chóng trong tương lai còn bao giờ thì chưa biết, các em có khó khăn thì lo mà học kiếm học bổng, im lặng và học tiếp đi🙂🙂🙂\n",
      "Còn mình thấy đa số sv đều nc rất lịch sự, số cmt văng tục kém văn hóa rất ít nên đừng quay qua đánh bài \"sinh viên có lời lẽ kích động và kém văn hóa xúc phạm ...\" ạ, bài này em hóng drama showbiz nhiều rồi em thừa biết nha\n",
      "Mong muốn được bỏ tín chỉ học phí + ngừng tăng % mỗi năm. Chỉ cần thế thôi, khỏi cần ghi nhận hay lắng nghe gì cả, kịch bản quen quá r mà.\n",
      "Bách khoa giờ k còn là BÁCH KHOA của ngày xưa nữa. Mác bách khoa bây giờ so với 10 năm trước nó khác lắm. Nhưng tiền thì lại tăng theo cấp số nhân. Mình K56 quay lại trường và nhìn cái bảng học phí của các em mà ngất. Thu nhập trong 10 năm qua của người dân không tăng là bao, csvc của trường k kiến thiết thêm là bao, nhưng hp thì tăng gấp 5 ,6 lần. Thử hỏi ai còn niềm tin vào ngôi trường đã từng được coi là niềm ao ước của biết bao sv thế hệ 8x ,đầu 9x. Giờ xã hội phát triển, nhận thức đi lên. Chắc chắn ngta sẽ biết lựa chọn cái gì là hợp lý nhất. Nếu còn đà tăng kiểu này BK huy hoàng năm nào cũng sẽ là dĩ vãng mà thôi.!!! Haizzzz\n",
      "Để tuần sau cho đỡ hot đã\n",
      "Không k65 lại ko chịu nhập học :((\n",
      "Các bạn kêu không cần nhà trường giải thích ạ. Chỉ cần giảm học phí thôi ạ. Tầm này thì mọi lời giải thích đều vô nghĩa =)))\n",
      "Ngày xưa mình học 4tr4/1 kì, giờ thấy toàn 8-9tr trở lên, mà nghĩ tự chủ mà cơ sở vật chất cũng không thay đổi gì, học Bk cũng chẳng phải dễ dàng vừa vất vừa lâu, k phải ai cũng có điều kiện kinh tế đâu\n",
      "Họp gì thì họp, cũng đừng quá trông chờ, trường thì cũng chẳng phải là tổ chức từ thiện, sinh viên cũng chẳng nghỉ học đc.\n",
      "Giờ em mình muốn đăng kí vào trường mà mình phải cản hết lời kìa. Học phí đắt, quy đổi tín chỉ thì tín học phí không bằng tín học phần, 1 môn thí nghiệm 3 tín mà 9 tín học phí, nhân lên đã thấy sợ. Xưa mình học cũng rẻ có hơn 100k 1 tín thì cắn răng tặc lưỡi cho qua chứ các em giờ gần 500k 1 tín nói thật là không gánh nổi\n",
      "Mình thấy đa số sinh viên trường X ra trường đi làm 1 năm là đủ số tiền bỏ ra để đi học đại học trong 5 năm rồi mà nhỉ :)))\n",
      "tổ chức hội thảo toàn trường cho minh bạch :D\n",
      "Đồng ý là học phí trường có uy tín, chất lượng sẽ cao hơn các trường ĐH khác. Nhưng mức cao hơn là bao nhiêu thì phù hợp đó mới là điều đáng quan tâm. Theo ý kiến của cá nhân tôi, học phí ĐH Bách Khoa quá cao so với các trường ĐH khác đào tạo cùng chuyên ngành. Đề nghị B…Xem thêm\n",
      "Kiến trúc và Csvc của Bách khoa từ hồi Napoleon . Sinh viên được lợi gì mỗi khi tăng hp? Nhà trg cần cân đối vj chi cho sv nghèo, học bổng, giải thưởng.... Những khoản đó chỉ đáp ứng cho 1 bộ phận chứ ko phải đại đa số sv . Việc nhà trường tự chủ thì…Xem thêm\n",
      ".\n",
      "Cre: 1 sv BK nào đó\n",
      "Học phí quá đắt. Cơ sở vật chất thì vẫn như thế không có gì thay đổi phải nói là tàn vì cũng tồn tại mấy chục năm rồi, đào tạo thì chỉ được 1 mức độ. Ra làm doanh nghiệp lại phải đào tạo lại. Vậy xin hỏi với cái số tiền đó. Nó có xứng với những gì bọn tôi nhận được không?\n",
      "Với tương lai ra trg và cái mác bk dễ kiếm đc việc lương kha khá, thì tiền học nhiều ng sẽ cảm thấy là xứng đáng\n",
      "Tuy nhiên là chưa có cách nào lấy tiền từ tương lai về đây để đóng tiền học, chỉ có ngân hàng cho mượn tương lai trả thôi\n",
      "Nhà nc nhà trg m…Xem thêm\n",
      "Hãy cho BGH thấy sức mạnh của toàn bộ sinh viên Bách Khoa.Gây sức ảnh hưởng đến BGH nhà trường\n",
      "văn minh nhưng lại k minh bạch. miễn giải thích\n",
      "Êu lêu lêu Ai chơi xin câu hỏi trước để lên kịch bản vậy , kì quá 🙂\n",
      "Rất vô lí khi cùng 1 môn học nhưng 2 ngành khác nhau lại nộp học phí khác nhau...\n",
      "Nếu được thì mong buổi \"làm việc\" đó sẽ được phát trực tiếp để toàn thể sinh viên trường có thể theo dõi nội dung một cách công khai.\n",
      "tăng mạnh chắc vì TV trc cổng chạy qc :)))\n",
      "HềUST\n",
      "Trong những năm vừa qua, phải nói là Trường làm truyền thông rất tốt, PR rất giỏi. Tuy nhiên, đối với các vấn đề nổi cộm mà sinh viên phản ánh, bức xúc thì chưa bao giờ nhận được lời giải đáp và hành xử thỏa đáng từ nhà trường. Tôi chỉ thấy trường nói …Xem thêm\n",
      "Giải thích mà như hai hôm vừa rồi thì không cần đâu ạ những nội dung ấy bọn em nắm rõ rồi ạ. Xin cảm ơn nhà trường ạ\n",
      "600k/tín nhưng máy tính phòng nghiên cứu vẫn dùng windows 2000\n",
      "Bnhieu một chỉ rồi mà ae kêu mạnh mẽ vậy. :)))\n",
      "Học phí tăng sẽ là điều không thể tránh khỏi. Nhưng nhà trường cần xem lại cách tính học phí. Một số trường cũng tự chủ nhưng họ không tính học phí như vậy. Tại sao lại phân chia làm TC học phần và TC học phí? Tại sao có những môn mà TC học phí x1.5 so…Xem thêm\n",
      "Bây giờ cảm thấy mình bỏ bách khoa từ năm nhất là quyết định đúng nhất cuộc đời. Vài hôm trước xem học phí một kì của vài bạn post lên còn đắt hơn một kì học phí du học của t. Quá chát luôn\n",
      "Về việc nhân hệ số tín chỉ học phí so với tín chỉ thường. Nhờ hội sinh viên phản hồi giúp mình.\n",
      "Điều e mong muốn nhất là nhà trường bỏ cách tính tín chỉ học phí lớn hơn nhiều so với tín chỉ môn học ạ, các trường khác cũng chả tính tín chỉ học phí nó lớn hơn như thế =)))\n",
      "Có 1 số môn còn không dùng mấy đến trang thết bị nhà trường nhưng học phí đắt hơn những môn thường vd: đồ án\n",
      "Tốt nghiệp được Bách Khoa cũng là lúc bố mẹ gãy lưng, rồi lại đến lúc sinh viên phải lao đầu vào đi làm để đỡ gánh nặng đó. Vòng xoáy giữa việc học và kiếm tiền lại bắt đầu. Hỏi tại sao Bách Khoa khó nhai thế.\n",
      "😀 nhà trường tăng học phí thì đóng cho các em ấy mấy cái gáy sách đi. Chứ sách ở thư viện cũng mấy chục năm r, cầm vào dễ bục lắm.\n",
      "Nhớ kì đầu tiên mình học 3.5tr/kì full môn học =))\n",
      "Trái chiều đâu ạ, có mỗi 1 chiều, ai cũng than học phí đại gia\n",
      "Trước cứ nghĩ học phí bên neu đắt quá ko dám đk học 2 năm bk ms biết mình đã lầm :(\n",
      "Nếu giải đáp, sao ta ko tổ chức 1 buổi livestream, sinh hoạt công dân tiền khóa k65 luôn ạ? Có thể tiến hành trên teams và live trên fb để các bạn theo dõi đc ạ? Em nghĩ nên vậy để đảm bảo đc sự minh bạch cho nhà trường.\n",
      "Có một sự thật là đại đa số sinh viên đều bức xúc về học phí 👌Bức xúc vì chuyện quy đổi tín chỉ học phí, csvc chưa được tốt.\n",
      "Sao trường không tổ chức 1 buổi toạ đàm giải thích cho minh bạch ở hội trường C2\n",
      "Liệu những ý kiến đó của chúng mình có được th…Xem thêm\n",
      "Tăng học phí nhưng wifi TốC đỘ CAo vào còn không được\n",
      "Từ K59 đã có lộ trình tăng học phí r công khai r. Bây giờ tăng cao hơn so với lộ trình công bố trước đó hay s nhỉ ?\n",
      "Sao nghe giống văn vozer thế ạ?\n",
      "Dính đến tiền em b**i văn minh 🤣🤣\n",
      "Chúng em văn mình thì nhà trường hãy minh bạch đi ạ\n",
      "Học phí thì cũng ko phải là cao..\n",
      "Cao do cách tính tín học phí :(\n",
      "Mọi thứ không thay đổi thì cũng đừng nên thay đổi học phí :))))\n",
      "Khổ thân các em,ngày xưa chị 180k một tháng còn lặc lè, giờ thế này thì chỉ con nhà giầu mới đc đi học ạ :((\n",
      "Vũ Bá Linh đừng ý kiến gì cả, vào đọc bình luận giải toả stress thôi chứ học phí hem có giảm đâu :v\n",
      "Chắc hẳn sẽ có khá nhiều bạn phải từ bỏ ước mơ của mình khi nhìn mức học phí ntn 😞\n",
      "Đại Học Bách Khoa => Đại Học Hoàng Gia ^^\n",
      "giải đáp thắc mắc làm cái gì.\n",
      "chỉ cần nói 1 câu tiền có giảm hay không chứ sinh viên không cần hay có nhu cầu giải quyết thắc mắc gì ở đây cả\n",
      "vô vị vl\n",
      "\"Giải đáp thắc mắc \" thì chắc tiền vẫn tăng\n",
      "Trường tăng cứ tăng còn cháu nào thích bỏ thì cứ bỏ. Trg ko thiếu sv :v\n",
      "Nói chung ai nghĩ ra cái trò tín chỉ học phí = 1.5-2 tín chỉ học phần là mang tầm tư duy vũ trụ rồi. Nhưng mà lại cứ vin vào học phí các trường N trường F để học phí lên 5-600k thì chả kiện.\n",
      "Dù gì thì mình cũng còn 12 tín nữa :))\n",
      "May mà ra trường rồi chứ với mức thu nhập nhà tôi mà cõng chỗ học phí này chắc ...thôi ko nghĩ nữa. Sợ quá :((\n",
      "ghi nhận thì giảm học phí đi, please\n",
      "Chắc đến 2-3năm sau học phí bên đại trà cao bằng bên quốc tế rồi nhỉ😄😄\n",
      "Anh em Sinh viên chúng tôi vẫn đang thể hiện rất văn minh nhé ! Chỉ mong nhà trường giảm học phí ngay và luôn đi , chứ đừng có giải thích abc gì hết , nghe chán rồi !\n",
      "Chi Quỳnh đọc cmt mà né mấy cái nguyện vọng bách khoa ra nhé. Vào Neu mà học. Học phí ko tăng. Tín học phần bằng tín học phí. Đặc biệt có sân bóng chuyền đẹp zl mà vào chơi ko lo bị đuổi nha 🤟🏻\n",
      "Có cái link kìa các b, thay vì cmt hãy viết vào đó, nó sẽ đến với thầy cô qua HSV, nhanh hơn\n",
      "Rồi nhà trường họp xong có giảm học phí không ạ\n",
      "Hay lại học phí cao để học giảng viên như bên Mỹ😐\n",
      "Giờ mới biết có fanpage này luôn , haizzz\n",
      "Tại sao nhà trường không cố định mức giá cho một tín chỉ học phí cố định cho lâu dài cứ thay đổi mỗi năm rồi tính đến năm 2040 chắc một tín chỉ học phí là 1000000 mất . Và sớm trở thành trg hoàng gia\n",
      "Tổ chức toàn trường đi\n",
      "Lại giống cái điểm rèn luyện với app ICTSV năm ngoái thôi 🙂\n",
      "Nhà trg mà công khai số tiền đã tiêu ở năm trước thì ko ai nói đc gì\n",
      "Chả biết nhà trường làm giáo dục hay làm kinh doanh nữa ( hệ quả của nền kttt)\n",
      "Ghi nhận phản hồi của sinh viên nhưng trường làm như thế nào là theo fomat của nhà trường. Các em ko có quyền lựa chọn đâu mà😂😂😂\n",
      "Đóng học phí là âm tiền không mở được công ty, dỗi :<\n",
      "fact: Học Phí = const👌\n",
      "Nhung Hong Pham có nên vào ý kiến việc chú bảo vệ nhà để xe k nhỉ =))) t12 còn đi thi mà\n",
      "Ngày trước cứ nghĩ học phí bên NEU là đắt nên không dám học, giờ thấy mình sai lầm quá rồi\n",
      "May thế, không đổi nv BK😁\n",
      "Chất lượng đi đôi với giá thành\n",
      "Ae cho mk hỏi 1 quả thận tốt giờ là bán được bao nhiêu ạ.\n",
      "Lam Lam Ngat Pham may mà ra trường rồi, học phí đắt quá thấy cứ mấy chất bk ý nhỉ\n",
      "Nguyễn Tho mấy hôm nay cứ thấy hối hận thôi ý :((( học phí đắt quá không biết có gồng được đến khi ra trương không 🤦‍♀️\n",
      ":v ít nhất là nâng cấp cái wifi lên đã rồi nói sau về nâng cấp csvc.\n",
      "Hôm qua t thấy một bác già già cmt bài thầy Tớp hay cực nhưng tiếc là bị xoá rồi mà chưa kịp cập lại\n",
      "Rồi học phí vẫn đóng thế chứ k có tính lại đâu! Buồn lắm\n",
      "Chả hiểu cái gọi là \"TV\" ở cổng đk lắp vs mục đích gì. Đã thế lại còn khuất xa sau lùm cây. Bật đk vài hôm và từ đó tắt ngủm\n",
      "Cao Thị Thuý Hà ui cứ bình tĩnh🤣🤣\n",
      "Chắc chỉ là 1 buổi FAQ nho nhỏ\n",
      "Nguyễn Nhi đó nạ, vận đầy người ý kiến, bữa mới nói xong :))\n",
      "Mai Tran Hương Phạm Nguyễn Trang khi chúng ta đã ra trg 😁😁😁\n",
      "Ninh Thành Vinh bẻ lái thi lại :))\n",
      "Các bạn k định để các e k65 vào học cho nóng mông ak. K65 là đang háo hức lắm rồi đó.\n",
      "Lam Trường học phí đắt lắm à :))\n",
      "Lương k tăng mà hf tăng là sao.???\n",
      "Giải thích rồi sẽ lại đúng quy trình 🤷‍♂️\n",
      "Lại Ngọc Thăng Long có vẻ ban căng nhỉ 😁\n",
      "Đức Huy vụ gì vậy a =)))\n",
      "Done\n"
     ]
    }
   ],
   "source": [
    "\n",
    "comment_content = browser.find_elements_by_class_name('_3l3x')\n",
    "for comment in comment_content:\n",
    "    print(comment.text)\n",
    "# with open('data/data_demo.csv', mode='a', encoding='utf-8', newline='') as file:\n",
    "#     for comment in comment_content:\n",
    "#         print(comment.text)\n",
    "#         writer = csv.writer(file, delimiter=',')\n",
    "#         writer.writerow([comment.text, '0'])\n",
    "# file.close()\n",
    "\n",
    "print('Done')"
   ]
  }
 ]
}